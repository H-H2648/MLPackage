{
 "cells": [
  {
   "cell_type": "code",
   "execution_count": 1,
   "metadata": {},
   "outputs": [],
   "source": [
    "from LinClass import LinClass\n",
    "from LinRegg import LinRegg\n",
    "import numpy as np\n",
    "import math\n",
    "import matplotlib.pyplot as plt"
   ]
  },
  {
   "cell_type": "code",
   "execution_count": 2,
   "metadata": {},
   "outputs": [],
   "source": [
    "heartData = np.loadtxt('cleanedSAheart.data.txt', skiprows=1)[:, 1:]\n",
    "arrayY = heartData[:,-1]\n",
    "y = np.zeros((len(heartData), 2))\n",
    "for ii in range(len(heartData)):\n",
    "    if arrayY[ii] == 0:\n",
    "        y[ii] = np.array([1, 0])\n",
    "    elif arrayY[ii] == 1:\n",
    "        y[ii] = np.array([0, 1])\n",
    "    else:\n",
    "        print('something wrong')\n",
    "        print(ii)\n",
    "        print(y[ii])\n",
    "X = heartData[:,0:-1]\n",
    "Xtrain, Xtest = X[:int(len(heartData)/3*2)], X[int(len(heartData)/3*2):]\n",
    "ytrain, ytest = y[:int(len(heartData)/3*2)], y[int(len(heartData)/3*2):]"
   ]
  },
  {
   "cell_type": "code",
   "execution_count": 3,
   "metadata": {},
   "outputs": [
    {
     "name": "stdout",
     "output_type": "stream",
     "text": [
      "[-0.53246753 -0.08041447  0.2616338   0.20405611  0.17516855  0.27339959\n",
      "  0.28150111 -0.17117332  0.08519574  0.4157916 ]\n"
     ]
    }
   ],
   "source": [
    "heartClass = LinClass(Xtrain, ytrain, indicatorArray = ['no heart attack', 'heart attack'])\n",
    "heartClass.binaryLogisticRegg()"
   ]
  },
  {
   "cell_type": "code",
   "execution_count": 4,
   "metadata": {},
   "outputs": [
    {
     "name": "stdout",
     "output_type": "stream",
     "text": [
      "0.7597402597402597\n"
     ]
    }
   ],
   "source": [
    "XtestStandardized = heartClass.standardizeTest(Xtest)\n",
    "logisticFit = heartClass.logisticReggBestFit\n",
    "correct = 0\n",
    "total = 0\n",
    "for ii in range(len(XtestStandardized)):\n",
    "    x = XtestStandardized[ii]\n",
    "    probability = math.exp(-np.dot(x, logisticFit))/(1 + math.exp(-np.dot(x, logisticFit)))\n",
    "    if probability > 1/2:\n",
    "        result = np.array([1, 0])\n",
    "    else:\n",
    "        result = np.array([0, 1])\n",
    "    if (result == ytest[ii]).all():\n",
    "        correct+=1\n",
    "    total +=1\n",
    "print(correct/total)\n",
    "        "
   ]
  },
  {
   "cell_type": "code",
   "execution_count": 5,
   "metadata": {},
   "outputs": [
    {
     "name": "stdout",
     "output_type": "stream",
     "text": [
      "0.5454545454545454\n"
     ]
    }
   ],
   "source": [
    "heartClass.setProbabilities()\n",
    "heartClass.setMeans()\n",
    "heartClass.setLinearCovariance()\n",
    "correct = 0\n",
    "total = 0\n",
    "for ii in range(len(Xtest)):\n",
    "    x = Xtest[ii]\n",
    "    guess = heartClass.optimizedLDASolve(x)\n",
    "    index = np.nonzero(ytest[ii])[0][0]\n",
    "    answer = heartClass.indicators[index]\n",
    "    if (guess == answer):\n",
    "        correct+=1\n",
    "    total +=1\n",
    "print(correct/total)"
   ]
  },
  {
   "cell_type": "code",
   "execution_count": 6,
   "metadata": {},
   "outputs": [
    {
     "name": "stdout",
     "output_type": "stream",
     "text": [
      "0.5584415584415584\n"
     ]
    }
   ],
   "source": [
    "correct = 0\n",
    "total = 0\n",
    "for ii in range(len(Xtest)):\n",
    "    x = Xtest[ii]\n",
    "    guess = heartClass.QDASolve(x)\n",
    "    index = np.nonzero(ytest[ii])[0][0]\n",
    "    answer = heartClass.indicators[index]\n",
    "    if (guess == answer):\n",
    "        correct+=1\n",
    "    total +=1\n",
    "print(correct/total)"
   ]
  },
  {
   "cell_type": "code",
   "execution_count": 7,
   "metadata": {},
   "outputs": [
    {
     "name": "stdout",
     "output_type": "stream",
     "text": [
      "0.7532467532467533\n"
     ]
    }
   ],
   "source": [
    "heartRegg = LinRegg(Xtrain, ytrain)\n",
    "heartRegg.standardizePredictor()\n",
    "heartRegg.RSSSolve()\n",
    "bestFit = heartRegg.bestFit\n",
    "XtestReggStandardized = heartRegg.standardizeTest(Xtest)\n",
    "correct = 0\n",
    "total = 0\n",
    "for ii in range(len(XtestReggStandardized)):\n",
    "    x = XtestReggStandardized[ii]\n",
    "    guess = heartClass.determineClassRegg(x, bestFit)\n",
    "    index = np.nonzero(ytest[ii])[0][0]\n",
    "    answer = heartClass.indicators[index]\n",
    "    if (guess == answer):\n",
    "        correct+=1\n",
    "    total +=1\n",
    "print(correct/total)"
   ]
  },
  {
   "cell_type": "code",
   "execution_count": 11,
   "metadata": {},
   "outputs": [
    {
     "data": {
      "text/plain": [
       "[<matplotlib.lines.Line2D at 0x1c3621a8eb0>]"
      ]
     },
     "execution_count": 11,
     "metadata": {},
     "output_type": "execute_result"
    },
    {
     "data": {
      "image/png": "[encoded data removed]",
      "text/plain": [
       "<Figure size 432x288 with 1 Axes>"
      ]
     },
     "metadata": {
      "needs_background": "light"
     },
     "output_type": "display_data"
    }
   ],
   "source": [
    "graphingX = np.arange(0, 1000, 0.5)\n",
    "graphingY = np.zeros(2000)\n",
    "XtestReggStandardized = heartRegg.standardizeTest(Xtest)\n",
    "for ii in range(len(graphingX)):\n",
    "    heartRegg.RSSRidgeSolve(complexity=graphingX[ii])\n",
    "    bestFit = heartRegg.ridgeBestFit\n",
    "    correct = 0\n",
    "    total = 0\n",
    "    for jj in range(len(XtestReggStandardized)):\n",
    "        x = XtestReggStandardized[jj]\n",
    "        guess = heartClass.determineClassRegg(x, bestFit)\n",
    "        index = np.nonzero(ytest[jj])[0][0]\n",
    "        answer = heartClass.indicators[index]\n",
    "        if (guess == answer):\n",
    "            correct+=1\n",
    "        total +=1\n",
    "    graphingY[ii] = correct/total\n",
    "plt.plot(graphingX, graphingY)"
   ]
  },
  {
   "cell_type": "code",
   "execution_count": 12,
   "metadata": {},
   "outputs": [
    {
     "name": "stdout",
     "output_type": "stream",
     "text": [
      "0.7727272727272727\n",
      "87.5\n"
     ]
    }
   ],
   "source": [
    "print(np.amax(graphingY))\n",
    "print(np.argmax(graphingY)*1/2)"
   ]
  },
  {
   "cell_type": "code",
   "execution_count": null,
   "metadata": {},
   "outputs": [],
   "source": []
  }
 ],
 "metadata": {
  "kernelspec": {
   "display_name": "Python 3",
   "language": "python",
   "name": "python3"
  },
  "language_info": {
   "codemirror_mode": {
    "name": "ipython",
    "version": 3
   },
   "file_extension": ".py",
   "mimetype": "text/x-python",
   "name": "python",
   "nbconvert_exporter": "python",
   "pygments_lexer": "ipython3",
   "version": "3.8.6"
  }
 },
 "nbformat": 4,
 "nbformat_minor": 4
}
