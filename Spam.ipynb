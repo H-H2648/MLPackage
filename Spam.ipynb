{
 "cells": [
  {
   "cell_type": "code",
   "execution_count": 1,
   "metadata": {},
   "outputs": [],
   "source": [
    "#Excercise 3.17\n",
    "\n",
    "from LinRegg import LinRegg\n",
    "import numpy as np\n",
    "import matplotlib.pyplot as plt"
   ]
  },
  {
   "cell_type": "code",
   "execution_count": 2,
   "metadata": {},
   "outputs": [],
   "source": [
    "#for calculating test error\n",
    "def RSS(testX, testY, bestFit):\n",
    "    return 1/2*np.dot(testY - np.dot(testX, bestFit), testY - np.dot(testX, bestFit))/len(testY)"
   ]
  },
  {
   "cell_type": "code",
   "execution_count": 3,
   "metadata": {},
   "outputs": [],
   "source": [
    "X = np.loadtxt('spam.data.txt', skiprows=1)\n",
    "y = np.loadtxt('spam.traintest.txt', skiprows = 1)\n",
    "Xtrain, Xtest = X[:3067], X[3067:]\n",
    "ytrain, ytest = y[:3067], y[3067:]"
   ]
  },
  {
   "cell_type": "code",
   "execution_count": 4,
   "metadata": {},
   "outputs": [
    {
     "name": "stdout",
     "output_type": "stream",
     "text": [
      "[[ 1.          0.31278173  0.31756298 ...  0.12993663  0.95952604\n",
      "   0.83222885]\n",
      " [ 1.         -0.200873   -0.28172148 ...  1.75682509  2.722634\n",
      "   0.83222885]\n",
      " [ 1.         -0.40633489 -0.28172148 ... -0.12850138 -0.23927279\n",
      "   0.83222885]\n",
      " ...\n",
      " [ 1.         -0.40633489  2.00840129 ... -0.20476178 -0.2951308\n",
      "  -1.20159257]\n",
      " [ 1.         -0.40633489 -0.28172148 ... -0.28949555 -0.48705319\n",
      "  -1.20159257]\n",
      " [ 1.          1.61404037 -0.28172148 ... -0.20476178 -0.39825328\n",
      "  -1.20159257]]\n",
      "[0. 1. 0. ... 0. 0. 0.]\n"
     ]
    }
   ],
   "source": [
    "spamLinTest = LinRegg(Xtrain, ytrain)\n",
    "spamLinTest.standardizePredictor()\n",
    "print(spamLinTest.inputArray)\n",
    "print(spamLinTest.outputArray)\n",
    "Xtest = spamLinTest.standardizeTest(Xtest)"
   ]
  },
  {
   "cell_type": "code",
   "execution_count": 5,
   "metadata": {},
   "outputs": [
    {
     "name": "stdout",
     "output_type": "stream",
     "text": [
      "3067\n",
      "3067\n"
     ]
    }
   ],
   "source": [
    "print(len(spamLinTest.inputArray))\n",
    "print(len(spamLinTest.outputArray))"
   ]
  },
  {
   "cell_type": "code",
   "execution_count": 6,
   "metadata": {},
   "outputs": [
    {
     "name": "stdout",
     "output_type": "stream",
     "text": [
      "LEAST SQUARES\n",
      "[ 3.25725465e-01 -1.27985268e-02  6.74808716e-05  2.97709338e-03\n",
      "  2.61707440e-03  1.52022710e-03  2.92066422e-03  8.23543583e-03\n",
      " -4.68268507e-03  7.15538652e-03 -2.04042649e-03  1.40357991e-02\n",
      "  3.15622379e-03  9.17414165e-03  2.07076593e-02 -1.26154944e-03\n",
      "  8.05020238e-03 -1.29452181e-02 -6.50595952e-03 -2.08969766e-03\n",
      "  1.89617764e-02 -1.03392678e-02 -2.79713309e-04  9.14231588e-03\n",
      "  1.38635272e-02  1.90957467e-02 -1.39759032e-03 -3.00931905e-03\n",
      "  3.16259725e-02 -2.09595602e-02  1.03124667e-02 -1.42916372e-02\n",
      " -4.14308142e-02  1.29083547e-02  5.48662467e-02  1.50627063e-03\n",
      " -3.29520127e-03 -1.49351547e-02  3.31386118e-04  1.82323878e-02\n",
      " -1.50497668e-02 -2.45768767e-02  4.67065996e-03 -4.94025286e-03\n",
      " -2.68834413e-03  2.90843759e-03  1.38892976e-02  9.85902203e-03\n",
      "  1.52470549e-02 -1.72692236e-03 -5.95026556e-05 -8.06159965e-03\n",
      "  1.54544991e-02 -1.70142961e-02 -1.75236567e-02  1.08123403e-02\n",
      " -9.20370649e-03  3.99860772e-03  4.48089062e-03]\n",
      "Test Error:\n",
      "0.11928006610493991\n"
     ]
    }
   ],
   "source": [
    "#Least Squares\n",
    "#THE RSS SOLUTION\n",
    "print('LEAST SQUARES')\n",
    "spamLinTest.RSSSolve()\n",
    "print(spamLinTest.bestFit)\n",
    "print('Test Error:')\n",
    "print(RSS(Xtest, ytest, spamLinTest.bestFit))\n"
   ]
  },
  {
   "cell_type": "code",
   "execution_count": 7,
   "metadata": {},
   "outputs": [
    {
     "name": "stdout",
     "output_type": "stream",
     "text": [
      "Best Subset\n",
      "[ 0.32572546  0.02178109  0.01910769  0.02522119  0.01241381 -0.01496532]\n",
      "Test Error:\n",
      "0.11497673726715642\n"
     ]
    }
   ],
   "source": [
    "#Best Subset\n",
    "print('Best Subset')\n",
    "spamLinTest.bestSubsetSolve()\n",
    "print(spamLinTest.bestSubsetBestFit)\n",
    "print('Test Error:')\n",
    "print(RSS(Xtest[:, spamLinTest.bestSubsetList], ytest, spamLinTest.bestSubsetBestFit))"
   ]
  },
  {
   "cell_type": "code",
   "execution_count": 8,
   "metadata": {},
   "outputs": [
    {
     "name": "stdout",
     "output_type": "stream",
     "text": [
      "Ridge\n",
      "[ 3.25725465e-01 -1.18336298e-02 -9.00117582e-05  2.85852688e-03\n",
      "  2.47629604e-03  1.29447759e-03  2.79750034e-03  7.69645307e-03\n",
      " -4.62463808e-03  6.75361297e-03 -1.87580015e-03  1.34792233e-02\n",
      "  2.80495210e-03  8.57743538e-03  2.01568976e-02 -1.23838112e-03\n",
      "  7.79259925e-03 -1.23470858e-02 -6.28829841e-03 -1.91725340e-03\n",
      "  1.82235623e-02 -1.01860600e-02 -4.57797372e-04  8.37717241e-03\n",
      "  1.31011802e-02  1.78386126e-02 -7.78337891e-04 -3.09890911e-03\n",
      "  3.01379222e-02 -1.95648055e-02  9.30011153e-03 -1.29457805e-02\n",
      " -3.71377468e-03  1.23327112e-02  1.54788365e-02  1.75309567e-03\n",
      " -2.96837324e-03 -1.42463106e-02  4.17420203e-04  1.74694310e-02\n",
      " -1.38353497e-02 -2.09104269e-02  3.73671865e-03 -4.90341039e-03\n",
      " -2.88060903e-03  2.75437586e-03  1.02267631e-02  9.47315988e-03\n",
      "  1.45314614e-02 -1.69421646e-03 -4.44811531e-04 -7.91805329e-03\n",
      "  1.47965605e-02 -1.60227764e-02 -1.68032161e-02  1.05188076e-02\n",
      " -8.27165919e-03  3.76306775e-03  4.10731561e-03]\n",
      "Test Error:\n",
      "0.11849319828424842\n"
     ]
    }
   ],
   "source": [
    "#Ridge\n",
    "print('Ridge')\n",
    "spamLinTest.RSSRidgeSolve(complexity=100)\n",
    "print(spamLinTest.ridgeBestFit)\n",
    "print('Test Error:')\n",
    "print(RSS(Xtest, ytest, spamLinTest.ridgeBestFit))"
   ]
  },
  {
   "cell_type": "code",
   "execution_count": 9,
   "metadata": {},
   "outputs": [
    {
     "name": "stdout",
     "output_type": "stream",
     "text": [
      "Lasso\n",
      "[ 3.25725465e-01 -1.27992529e-02  1.40372373e-02  2.07082902e-02\n",
      "  3.16106552e-02 -2.09602930e-02  1.89626386e-02 -2.45762960e-02\n",
      " -1.75251799e-02  1.52485965e-02  1.82283201e-02 -1.49389412e-02\n",
      " -1.70173439e-02  1.54579795e-02  1.90977255e-02  1.29056036e-02\n",
      " -1.29458689e-02  1.38646157e-02 -1.03357447e-02 -1.42910003e-02\n",
      "  9.85851658e-03 -8.06356593e-03  8.23753875e-03  1.08280161e-02\n",
      "  8.05051863e-03  9.14390543e-03  9.17585070e-03  7.15913607e-03\n",
      " -6.50263332e-03 -9.24402243e-03  1.03134126e-02 -4.68311898e-03\n",
      " -4.93836888e-03 -3.00655180e-03 -1.50539436e-02  5.48524029e-02\n",
      "  1.38909499e-02  2.97623021e-03  4.67206305e-03  2.92054308e-03\n",
      "  2.61815409e-03  4.00489370e-03 -2.03933155e-03 -2.68734511e-03\n",
      "  3.15740889e-03  2.90917401e-03  4.48125727e-03 -1.73560876e-03\n",
      "  1.52085793e-03 -3.29431501e-03 -2.08605022e-03 -1.39759350e-03\n",
      " -1.25709808e-03 -4.14245434e-02  1.50763477e-03  3.28927430e-04\n",
      " -2.48988180e-04  0.00000000e+00  4.07455697e-05]\n",
      "Test Error:\n",
      "0.12361754215478268\n"
     ]
    }
   ],
   "source": [
    "#Lasso\n",
    "print('Lasso')\n",
    "spamLinTest.LARLassoAlgorithm()\n",
    "print(spamLinTest.lassoBestFit)\n",
    "print('Test Error:')\n",
    "print(RSS(Xtest, ytest, spamLinTest.lassoBestFit))"
   ]
  },
  {
   "cell_type": "code",
   "execution_count": 10,
   "metadata": {},
   "outputs": [
    {
     "name": "stdout",
     "output_type": "stream",
     "text": [
      "Principal Component Regression\n",
      "[ 3.25725465e-01 -1.27985268e-02  6.74808716e-05  2.97709338e-03\n",
      "  2.61707440e-03  1.52022710e-03  2.92066422e-03  8.23543583e-03\n",
      " -4.68268507e-03  7.15538652e-03 -2.04042649e-03  1.40357991e-02\n",
      "  3.15622379e-03  9.17414165e-03  2.07076593e-02 -1.26154944e-03\n",
      "  8.05020238e-03 -1.29452181e-02 -6.50595952e-03 -2.08969766e-03\n",
      "  1.89617764e-02 -1.03392678e-02 -2.79713309e-04  9.14231588e-03\n",
      "  1.38635272e-02  1.90957467e-02 -1.39759032e-03 -3.00931905e-03\n",
      "  3.16259725e-02 -2.09595602e-02  1.03124667e-02 -1.42916372e-02\n",
      " -4.14308142e-02  1.29083547e-02  5.48662467e-02  1.50627063e-03\n",
      " -3.29520127e-03 -1.49351547e-02  3.31386118e-04  1.82323878e-02\n",
      " -1.50497668e-02 -2.45768767e-02  4.67065996e-03 -4.94025286e-03\n",
      " -2.68834413e-03  2.90843759e-03  1.38892976e-02  9.85902203e-03\n",
      "  1.52470549e-02 -1.72692236e-03 -5.95026556e-05 -8.06159965e-03\n",
      "  1.54544991e-02 -1.70142961e-02 -1.75236567e-02  1.08123403e-02\n",
      " -9.20370649e-03  3.99860772e-03  4.48089062e-03]\n",
      "Test Error:\n",
      "0.11928006610493978\n"
     ]
    }
   ],
   "source": [
    "#Principal Component Regression\n",
    "print('Principal Component Regression')\n",
    "spamLinTest.principalComponentRegression()\n",
    "print(spamLinTest.principalComponentBestFit)\n",
    "print('Test Error:')\n",
    "print(RSS(Xtest, ytest, spamLinTest.principalComponentBestFit))\n"
   ]
  },
  {
   "cell_type": "code",
   "execution_count": 13,
   "metadata": {
    "scrolled": false
   },
   "outputs": [
    {
     "name": "stdout",
     "output_type": "stream",
     "text": [
      "Partial Least Squares\n",
      "0.11107210226190689\n",
      "[ 2.29143261e-04  1.23355981e-16 -3.07777621e-16 -2.54234659e-17\n",
      " -1.46658118e-16 -1.07679870e-16 -2.67893971e-16  7.01451371e-16\n",
      "  1.42397813e-16 -1.24584764e-16 -2.74061503e-16  1.13111423e-16\n",
      "  6.44528107e-16 -1.42648757e-16  1.57248898e-16 -2.83288452e-16\n",
      " -6.78524804e-16  9.97204707e-18  2.33000866e-16  3.39404662e-16\n",
      " -4.48172002e-16 -1.98474501e-16 -1.17937000e-16  2.94268783e-16\n",
      " -6.39620480e-17  1.81587116e-15 -9.64785573e-16  8.60609044e-16\n",
      " -2.68647296e-16  4.26645452e-16 -1.01173836e-15 -1.11781202e-15\n",
      "  3.63469365e-14  2.66885887e-16 -3.49901950e-14 -2.94552204e-16\n",
      "  1.12633134e-15 -3.56797220e-16 -7.69537833e-17 -2.43434123e-16\n",
      " -8.68009523e-16  1.68039652e-15 -4.73760423e-16  7.71871413e-16\n",
      "  3.77361911e-16 -3.46023728e-16 -1.60977108e-15 -9.86216224e-18\n",
      "  8.83291193e-17 -2.40566783e-16  2.00198297e-16  1.74181277e-16\n",
      "  4.37467577e-16 -2.11131065e-16  1.54614417e-17  4.50765828e-16\n",
      " -1.24377688e-16  9.37976237e-17  7.62302779e-16]\n",
      "Test Error:\n",
      "0.17474052149938762\n"
     ]
    }
   ],
   "source": [
    "#Partial Least Squares\n",
    "print('Partial Least Squares')\n",
    "spamLinTest.partialLeastSquares()\n",
    "print(spamLinTest.partialLeastSquaresBestFit)\n",
    "print('Test Error:')\n",
    "print(RSS(Xtest, ytest, spamLinTest.partialLeastSquaresBestFit))\n"
   ]
  },
  {
   "cell_type": "code",
   "execution_count": null,
   "metadata": {},
   "outputs": [],
   "source": []
  },
  {
   "cell_type": "code",
   "execution_count": null,
   "metadata": {},
   "outputs": [],
   "source": []
  }
 ],
 "metadata": {
  "kernelspec": {
   "display_name": "Python 3",
   "language": "python",
   "name": "python3"
  },
  "language_info": {
   "codemirror_mode": {
    "name": "ipython",
    "version": 3
   },
   "file_extension": ".py",
   "mimetype": "text/x-python",
   "name": "python",
   "nbconvert_exporter": "python",
   "pygments_lexer": "ipython3",
   "version": "3.8.6"
  }
 },
 "nbformat": 4,
 "nbformat_minor": 4
}
