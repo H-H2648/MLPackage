{
 "cells": [
  {
   "cell_type": "code",
   "execution_count": null,
   "metadata": {},
   "outputs": [],
   "source": [
    "import numpy as np\n",
    "from LinRegg import LinRegg\n",
    "from LinClass import LinClass\n",
    "from scipy.stats import norm\n",
    "import timeit as tt\n",
    "from scipy.special import expit"
   ]
  },
  {
   "cell_type": "code",
   "execution_count": null,
   "metadata": {},
   "outputs": [],
   "source": [
    "X = np.load('M1Data/x_test.npy', allow_pickle = True)\n",
    "Y = np.load('M1Data/y_test.npy', allow_pickle = True)\n",
    "names = np.load('M1Data/names.npy', allow_pickle = True)"
   ]
  },
  {
   "cell_type": "code",
   "execution_count": null,
   "metadata": {},
   "outputs": [],
   "source": [
    "X_train, X_test, Y_train, Y_test = X[:int(len(X)/3)], X[int(len(X)/3):], Y[0:int(len(Y)/3)], Y[int(len(Y)/3):]\n",
    "for ii in range(min(len(X_train), len(X_train[0]))):\n",
    "    X_train[ii][ii] += norm.rvs(loc=0, scale=0.001, size=1)"
   ]
  },
  {
   "cell_type": "code",
   "execution_count": null,
   "metadata": {},
   "outputs": [],
   "source": [
    "M1Regg = LinRegg(X_train, Y_train)\n",
    "M1Regg.standardizePredictor()\n",
    "M1Regg.RSSSolve()\n",
    "X_test = M1Regg.standardizeTest(X_test)"
   ]
  },
  {
   "cell_type": "code",
   "execution_count": null,
   "metadata": {},
   "outputs": [],
   "source": [
    "M1Classifications = LinClass(X_train, Y_train, np.array(['First Round', 'Second Round', 'Third Round', 'Semi Semi Finals', 'Semi Finals', 'Finals', 'Victory']))"
   ]
  },
  {
   "cell_type": "code",
   "execution_count": null,
   "metadata": {},
   "outputs": [],
   "source": [
    "M1Classifications.separateHyperPlane()"
   ]
  },
  {
   "cell_type": "code",
   "execution_count": null,
   "metadata": {},
   "outputs": [],
   "source": [
    "total = 0\n",
    "correct = 0\n",
    "for ii in range(len(X_test)):\n",
    "    guess = M1Classifications.determineClassRegg(X_test[ii], M1Regg.bestFit)\n",
    "    answer = M1Classifications.indicators[np.nonzero(Y[ii])[0][0]]\n",
    "    if guess == answer:\n",
    "        correct +=1\n",
    "    total +=1\n",
    "print(correct/total)\n",
    "#observed probability around 50%\n",
    "#not bad!"
   ]
  },
  {
   "cell_type": "code",
   "execution_count": null,
   "metadata": {},
   "outputs": [],
   "source": [
    "X_train, X_test, Y_train, Y_test = X[:int(len(X)/3 )], X[int(len(X)/3):], Y[0:int(len(Y)/3)], Y[int(len(Y)/3):]\n",
    "for ii in range(min(len(X_train), len(X_train[0]))):\n",
    "    X_train[ii][ii] += norm.rvs(loc=0, scale=0.001, size=1)\n",
    "M1Classifications = LinClass(X_train, Y_train, np.array(['First Round', 'Second Round', 'Third Round', 'Semi Semi Finals', 'Semi Finals', 'Finals', 'Victory']))"
   ]
  },
  {
   "cell_type": "code",
   "execution_count": null,
   "metadata": {},
   "outputs": [],
   "source": [
    "M1Classifications.setProbabilities()\n",
    "print(M1Classifications.probabilities)\n",
    "M1Classifications.setMeans()\n",
    "print(M1Classifications.means)\n",
    "M1Classifications.setLinearCovariance()\n",
    "print(M1Classifications.linearCovariance)\n",
    "#M1Classifications.setQuadraticCovariance()\n",
    "#print(M1Classifications.quadraticCovariance)"
   ]
  },
  {
   "cell_type": "code",
   "execution_count": null,
   "metadata": {},
   "outputs": [],
   "source": [
    "correct = 0\n",
    "total = 0\n",
    "for ii in range(len(X_test)):\n",
    "    find = M1Classifications.optimizedLDASolve(X_test[ii])\n",
    "    guess = find\n",
    "    print(guess)\n",
    "    answer = M1Classifications.indicators[np.nonzero(Y_test[ii])[0][0]]\n",
    "    if guess == answer:\n",
    "        correct +=1\n",
    "    total +=1\n",
    "print(correct/total)\n",
    "#85% accuracy but only guesses 'First Round'"
   ]
  },
  {
   "cell_type": "code",
   "execution_count": null,
   "metadata": {},
   "outputs": [],
   "source": [
    "#correct = 0\n",
    "#total = 0\n",
    "#for ii in range(len(X_test)):\n",
    "#    find = M1Classifications.QDASolve(X_test[ii])\n",
    "#    guess = find\n",
    "#    print(guess)\n",
    "#    answer = M1Classifications.indicators[np.nonzero(Y_test[ii])[0][0]]\n",
    "#    if guess == answer:\n",
    "#        correct +=1\n",
    "#    total +=1\n",
    "#print(correct/total)"
   ]
  },
  {
   "cell_type": "code",
   "execution_count": null,
   "metadata": {},
   "outputs": [],
   "source": [
    "correct = 0\n",
    "total = 0\n",
    "logisticFit = M1Classifications.binaryLogisticRegg(outputIndex=0)\n",
    "XtestStandardized = M1Classifications.standardizeTest(X_test)\n",
    "for ii in range(len(XtestStandardized)):\n",
    "    x = XtestStandardized[ii]\n",
    "    probability = 1 - expit(-np.dot(x, logisticFit))\n",
    "    answer = (Y_test[ii][0] == 1)\n",
    "    if probability > 1/2:\n",
    "        result = True\n",
    "    else:\n",
    "        result = False\n",
    "    print(result)\n",
    "    if result == answer:\n",
    "        correct+=1 \n",
    "    total +=1\n",
    "print(correct/total)"
   ]
  },
  {
   "cell_type": "code",
   "execution_count": null,
   "metadata": {},
   "outputs": [],
   "source": [
    "correct = 0\n",
    "total = 0\n",
    "logisticFit2 = M1Classifications.binaryLogisticRegg(outputIndex=1)\n",
    "for ii in range(len(XtestStandardized)):\n",
    "    x = XtestStandardized[ii]\n",
    "    probability = 1 - expit(-np.dot(x, logisticFit))\n",
    "    answer = (Y_test[ii][1] == 1)\n",
    "    if probability > 1/2:\n",
    "        result = True\n",
    "    else:\n",
    "        result = False\n",
    "    print((result, answer))\n",
    "    if result == answer:\n",
    "        correct+=1 \n",
    "    total +=1\n",
    "print(correct/total)"
   ]
  },
  {
   "cell_type": "code",
   "execution_count": null,
   "metadata": {},
   "outputs": [],
   "source": [
    "correct = 0\n",
    "total = 0\n",
    "logisticFit3 = M1Classifications.binaryLogisticRegg(outputIndex=2)\n",
    "for ii in range(len(XtestStandardized)):\n",
    "    x = XtestStandardized[ii]\n",
    "    probability = 1 - expit(-np.dot(x, logisticFit))\n",
    "    answer = (Y_test[ii][2] == 1)\n",
    "    if probability > 1/2:\n",
    "        result = True\n",
    "    else:\n",
    "        result = False\n",
    "    if result == answer:\n",
    "        correct+=1 \n",
    "    total +=1\n",
    "print(correct/total)"
   ]
  },
  {
   "cell_type": "code",
   "execution_count": null,
   "metadata": {},
   "outputs": [],
   "source": []
  },
  {
   "cell_type": "code",
   "execution_count": null,
   "metadata": {},
   "outputs": [],
   "source": []
  }
 ],
 "metadata": {
  "kernelspec": {
   "display_name": "Python 3",
   "language": "python",
   "name": "python3"
  },
  "language_info": {
   "codemirror_mode": {
    "name": "ipython",
    "version": 3
   },
   "file_extension": ".py",
   "mimetype": "text/x-python",
   "name": "python",
   "nbconvert_exporter": "python",
   "pygments_lexer": "ipython3",
   "version": "3.8.7"
  }
 },
 "nbformat": 4,
 "nbformat_minor": 4
}
