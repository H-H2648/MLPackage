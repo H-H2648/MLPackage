{
 "cells": [
  {
   "cell_type": "code",
   "execution_count": 1,
   "metadata": {},
   "outputs": [],
   "source": [
    "#looks at common stocks\n",
    "# looks at American tech companies listed in https://www.visualcapitalist.com/the-worlds-tech-giants-ranked\n",
    "#instagram is under facebook, linkedin under microsoft\n",
    "# Tencent, Samsung, Huawei, Xiaomi and baidu are not American (of course)\n",
    "#Companies, listed in alphabetical order are (in the stock symbol):\n",
    "#Apple, ACN, Adobe, Salesforce, Cisco, Dell, Facebook, Google, IBM, Intel, Microsoft, Oracle, SAP"
   ]
  },
  {
   "cell_type": "code",
   "execution_count": 2,
   "metadata": {},
   "outputs": [],
   "source": [
    "#using the files\n",
    "import time\n",
    "import requests\n",
    "import json\n",
    "from requests.adapters import HTTPAdapter\n",
    "from requests.packages.urllib3.util.retry import Retry\n",
    "import numpy as np\n",
    "from LinRegg import LinRegg\n",
    "from scipy import linalg\n",
    "import matplotlib.pyplot as plt"
   ]
  },
  {
   "cell_type": "code",
   "execution_count": 3,
   "metadata": {},
   "outputs": [
    {
     "name": "stdout",
     "output_type": "stream",
     "text": [
      "AAPL\n",
      "ACN\n",
      "ADBE\n",
      "CRM\n",
      "CSCO\n",
      "FB\n",
      "GOOGL\n",
      "IBM\n",
      "INTC\n",
      "MSFT\n",
      "ORCL\n",
      "SAP\n"
     ]
    }
   ],
   "source": [
    "session = requests.Session()\n",
    "retry = Retry(connect=3, backoff_factor=0.5)\n",
    "adapter = HTTPAdapter(max_retries=retry)\n",
    "session.mount('http://', adapter)\n",
    "session.mount('https://', adapter)\n",
    "#for now let's throw out DELL\n",
    "companies = {'AAPL' : [], 'ACN': [], 'ADBE': [], 'CRM': [], 'CSCO': [], 'FB': [], 'GOOGL': [], 'IBM': [], 'INTC': [], 'MSFT': [], 'ORCL': [], 'SAP': []}\n",
    "companies2019 = {'AAPL' : [], 'ACN': [], 'ADBE': [], 'CRM': [], 'CSCO': [], 'FB': [], 'GOOGL': [], 'IBM': [], 'INTC': [], 'MSFT': [], 'ORCL': [], 'SAP': []}\n",
    "companies2018 = {'AAPL' : [], 'ACN': [], 'ADBE': [], 'CRM': [], 'CSCO': [], 'FB': [], 'GOOGL': [], 'IBM': [], 'INTC': [], 'MSFT': [], 'ORCL': [], 'SAP': []}\n",
    "companies2017 = {'AAPL' : [], 'ACN': [], 'ADBE': [], 'CRM': [], 'CSCO': [], 'FB': [], 'GOOGL': [], 'IBM': [], 'INTC': [], 'MSFT': [], 'ORCL': [], 'SAP': []}\n",
    "logCompanies = {'AAPL' : [], 'ACN': [], 'ADBE': [], 'CRM': [], 'CSCO': [], 'FB': [], 'GOOGL': [], 'IBM': [], 'INTC': [], 'MSFT': [], 'ORCL': [], 'SAP': []}\n",
    "logCompanies2019 = {'AAPL' : [], 'ACN': [], 'ADBE': [], 'CRM': [], 'CSCO': [], 'FB': [], 'GOOGL': [], 'IBM': [], 'INTC': [], 'MSFT': [], 'ORCL': [], 'SAP': []}\n",
    "logCompanies2018 = {'AAPL' : [], 'ACN': [], 'ADBE': [], 'CRM': [], 'CSCO': [], 'FB': [], 'GOOGL': [], 'IBM': [], 'INTC': [], 'MSFT': [], 'ORCL': [], 'SAP': []}\n",
    "logCompanies2017 = {'AAPL' : [], 'ACN': [], 'ADBE': [], 'CRM': [], 'CSCO': [], 'FB': [], 'GOOGL': [], 'IBM': [], 'INTC': [], 'MSFT': [], 'ORCL': [], 'SAP': []}\n",
    "for company in companies:\n",
    "    print(company)\n",
    "    time.sleep(12)\n",
    "    r = session.get('https://www.alphavantage.co/query?function=TIME_SERIES_DAILY&symbol={0}&outputsize=full&apikey=ENSG5HIMGR91A6O3'.format(company))\n",
    "    DICT = r.json()\n",
    "    #dictionary is weird \n",
    "    for key in DICT:\n",
    "        if key == \"Time Series (Daily)\":\n",
    "            stockData = DICT[key]      \n",
    "    for tradeTime in stockData:\n",
    "        if tradeTime.startswith('2020'):\n",
    "            companies[company].append(float(stockData[tradeTime][\"4. close\"])/float(stockData[tradeTime][\"1. open\"]))\n",
    "            logCompanies[company].append(np.log(float(stockData[tradeTime][\"4. close\"])/float(stockData[tradeTime][\"1. open\"])))\n",
    "        elif tradeTime.startswith('2019'):\n",
    "            companies2019[company].append(float(stockData[tradeTime][\"4. close\"])/float(stockData[tradeTime][\"1. open\"]))\n",
    "            logCompanies2019[company].append(np.log(float(stockData[tradeTime][\"4. close\"])/float(stockData[tradeTime][\"1. open\"])))\n",
    "        elif tradeTime.startswith('2018'):\n",
    "            companies2018[company].append(float(stockData[tradeTime][\"4. close\"])/float(stockData[tradeTime][\"1. open\"]))\n",
    "            logCompanies2018[company].append(np.log(float(stockData[tradeTime][\"4. close\"])/float(stockData[tradeTime][\"1. open\"])))\n",
    "        elif tradeTime.startswith('2018'):\n",
    "            companies2017[company].append(float(stockData[tradeTime][\"4. close\"])/float(stockData[tradeTime][\"1. open\"]))\n",
    "            logCompanies2017[company].append(np.log(float(stockData[tradeTime][\"4. close\"])/float(stockData[tradeTime][\"1. open\"])))\n",
    "        else:\n",
    "            break"
   ]
  },
  {
   "cell_type": "code",
   "execution_count": 12,
   "metadata": {},
   "outputs": [],
   "source": [
    "companyNames = ['AAPL', 'ACN', 'ADBE', 'CRM', 'CSCO', 'FB', 'GOOGL', 'IBM', 'INTC', 'MSFT', 'ORCL', 'SAP']\n",
    "inputArray = np.zeros((len(companies['AAPL'])-1, len(companyNames)))\n",
    "outputArray = np.zeros((len(companies['AAPL'])-1, len(companyNames)))\n",
    "logInputArray = np.zeros((len(logCompanies['AAPL'])-1, len(companyNames)))\n",
    "logOutputArray = np.zeros((len(logCompanies['AAPL'])-1, len(companyNames)))\n",
    "for ii in range(len(companies['AAPL']) - 1):\n",
    "    for jj in range(len(companyNames)):\n",
    "        inputArray[ii][jj] = companies[companyNames[jj]][ii]\n",
    "        outputArray[ii][jj] = companies[companyNames[jj]][ii+1]\n",
    "        logInputArray[ii][jj] = logCompanies[companyNames[jj]][ii]\n",
    "        logOutputArray[ii][jj] = logCompanies[companyNames[jj]][ii+1]"
   ]
  },
  {
   "cell_type": "code",
   "execution_count": 16,
   "metadata": {},
   "outputs": [
    {
     "name": "stdout",
     "output_type": "stream",
     "text": [
      "[[-0.00671089 -0.01365     0.02247426 ...  0.00514862 -0.00115141\n",
      "   0.00181518]\n",
      " [-0.00016337 -0.00024404 -0.00013699 ...  0.01516648 -0.00542988\n",
      "  -0.00223168]\n",
      " [ 0.02248392  0.00117879 -0.01430366 ... -0.00592012 -0.00050424\n",
      "   0.01598067]\n",
      " ...\n",
      " [-0.00484764  0.00358608 -0.00227702 ... -0.01098149  0.0049977\n",
      "  -0.00343669]\n",
      " [ 0.02025036  0.00076794  0.01637499 ...  0.01233763  0.01266311\n",
      "   0.00777981]\n",
      " [ 0.00094184  0.00621565  0.00798818 ...  0.0018931   0.01442648\n",
      "   0.00508831]]\n",
      "[[0.99331158 0.98644274 1.02272871 ... 1.0051619  0.99884925 1.00181683]\n",
      " [0.99983664 0.99975599 0.99986302 ... 1.01528208 0.99458484 0.99777081]\n",
      " [1.02273859 1.00117949 0.98579816 ... 0.99409737 0.99949588 1.01610905]\n",
      " ...\n",
      " [0.99516409 1.00359252 0.99772557 ... 0.98907858 1.00501021 0.99656921]\n",
      " [1.02045679 1.00076823 1.01650979 ... 1.01241406 1.01274363 1.00781015]\n",
      " [1.00094229 1.00623501 1.00802017 ... 1.0018949  1.01453104 1.00510128]]\n"
     ]
    }
   ],
   "source": [
    "print(logInputArray)\n",
    "print(inputArray)"
   ]
  },
  {
   "cell_type": "code",
   "execution_count": 17,
   "metadata": {},
   "outputs": [],
   "source": [
    "stockRegg = LinRegg(inputArray, outputArray)\n",
    "stockRegg.standardizePredictor()\n",
    "logStockRegg = LinRegg(logInputArray, logOutputArray)\n",
    "logStockRegg.standardizePredictor()"
   ]
  },
  {
   "cell_type": "code",
   "execution_count": 76,
   "metadata": {},
   "outputs": [
    {
     "name": "stdout",
     "output_type": "stream",
     "text": [
      "RIDGES\n",
      "[[ 1.40744776e-03  9.96666857e-04  6.11852041e-04  5.29745912e-04\n",
      "   2.83723675e-04  1.11868901e-03  1.14501660e-03 -1.37319163e-04\n",
      "   4.72740885e-04  6.13498794e-04  6.08751320e-04 -4.27841589e-04]\n",
      " [-1.39240327e-03 -1.09152123e-03 -1.06845899e-03 -2.44429515e-03\n",
      "  -1.23355913e-03 -1.35952972e-03 -1.43542827e-03 -1.46994101e-03\n",
      "  -3.34186266e-04 -1.28646729e-03 -1.00508677e-03 -1.46361232e-03]\n",
      " [ 4.52355563e-04 -1.67775237e-03 -8.96375918e-04 -2.30672086e-03\n",
      "   4.66008179e-04  4.42441660e-04 -4.82925662e-04 -5.61557811e-04\n",
      "   3.76569947e-04 -1.97758026e-04 -1.39576721e-03 -9.16598987e-04]\n",
      " [ 5.29450219e-04 -4.59034765e-05 -1.47943397e-03 -2.32580622e-04\n",
      "   2.07932204e-04  1.02724372e-03  7.95548133e-06 -9.37341598e-04\n",
      "  -1.29655228e-03 -3.89410553e-05  8.46405942e-04  1.41218505e-04]\n",
      " [-7.57695900e-04 -1.73378380e-03 -1.36828464e-04  1.30853550e-03\n",
      "  -6.22537272e-04 -1.15154603e-04 -5.52432355e-04 -4.99602573e-04\n",
      "  -7.07877606e-04 -1.51552877e-03 -5.15879898e-04  8.61986002e-04]\n",
      " [ 1.94487645e-04 -4.95168727e-04  3.82445940e-04 -1.36025303e-04\n",
      "  -3.31260220e-04  2.31755507e-04  1.24902642e-03  1.32332180e-03\n",
      "   2.36796178e-03  8.26594493e-04  1.30893821e-03  5.67325202e-04]\n",
      " [-1.09924894e-03 -1.57840395e-04  8.52663243e-05  1.55302295e-03\n",
      "  -2.27849515e-04 -6.63698769e-04  9.03934225e-06  1.02739908e-03\n",
      "   3.66033799e-04 -1.29580746e-04  2.90884062e-05 -4.81262098e-04]\n",
      " [-9.48781362e-04 -1.23552123e-03 -6.25017079e-04 -7.96448190e-04\n",
      "  -1.03120657e-03 -1.13356036e-03 -1.43198573e-03 -1.24400068e-03\n",
      "   2.96888364e-04 -3.01490663e-04 -5.68717087e-04 -6.95467141e-04]\n",
      " [-8.88304891e-04  2.53500160e-05 -6.15750392e-04 -7.16700990e-04\n",
      "   2.53046868e-04 -8.57406533e-04 -6.56645034e-04  6.08132323e-04\n",
      "   7.74693294e-04 -7.06668688e-04  1.07870522e-03  9.26502376e-04]\n",
      " [-3.68207776e-03 -1.81177287e-03 -3.86590643e-03 -3.96874308e-03\n",
      "  -3.57246719e-03 -3.05231608e-03 -2.53573377e-03 -1.83700292e-03\n",
      "  -5.40251648e-03 -4.09830609e-03 -2.76998220e-03 -1.32446982e-03]\n",
      " [ 2.08427029e-05 -1.05052157e-03 -5.16551705e-04 -9.65248515e-04\n",
      "  -9.70817002e-04 -3.20198378e-04 -4.44163902e-04 -8.49433728e-04\n",
      "  -2.08181270e-03 -1.38614960e-03 -1.37461781e-03 -6.40726756e-04]\n",
      " [ 5.23379178e-04  5.35924604e-04  2.31587798e-03 -3.68868866e-04\n",
      "  -2.85879085e-04 -5.92605015e-04  6.55137649e-04 -9.29101522e-04\n",
      "   8.60411231e-05  5.41880906e-04 -6.71044121e-04  1.14428479e-03]\n",
      " [ 2.37387921e-03  2.37391479e-03  8.68846325e-04  1.36734554e-03\n",
      "   3.67730363e-03  1.48260854e-03  9.72650686e-04  2.13705553e-03\n",
      "   8.14933370e-04  2.17525329e-03  3.88189097e-03  1.38368173e-03]]\n",
      "[[ 1.40744776e-03  9.96666857e-04  6.11852041e-04  5.29745912e-04\n",
      "   2.83723675e-04  1.11868901e-03  1.14501660e-03 -1.37319163e-04\n",
      "   4.72740885e-04  6.13498794e-04  6.08751320e-04 -4.27841589e-04]\n",
      " [-3.28993138e-03 -1.59750995e-03 -2.17248033e-03 -5.32880621e-03\n",
      "  -2.41717528e-03 -2.98907886e-03 -3.07879282e-03 -3.25480515e-03\n",
      "  -5.29751385e-04 -2.62565389e-03 -2.11835428e-03 -2.87419675e-03]\n",
      " [ 3.92970135e-04 -3.28230686e-03 -2.04788539e-03 -4.91483956e-03\n",
      "   3.47736529e-04  5.48892407e-04 -1.14372464e-03 -1.39672923e-03\n",
      "  -2.92908264e-04 -8.61957830e-04 -3.99506015e-03 -2.53771600e-03]\n",
      " [ 1.39971650e-03  1.08008854e-03 -2.54633263e-03 -1.02886343e-04\n",
      "   7.45788346e-04  2.76486690e-03  8.44351932e-04 -2.01580379e-03\n",
      "  -8.41174098e-04  1.11875639e-03  2.64075830e-03  9.62524495e-04]\n",
      " [-1.97602422e-03 -3.14601145e-03 -4.50358839e-04  2.36867796e-03\n",
      "  -1.37550472e-03 -7.09089061e-04 -1.30261598e-03 -4.86640799e-04\n",
      "  -1.09193043e-03 -2.98459417e-03 -6.96941379e-04  1.70093281e-03]\n",
      " [ 1.37888008e-03 -4.94960265e-04  1.23318063e-03  1.72438317e-03\n",
      "   9.28227378e-05  1.73213059e-03  3.51670980e-03  3.79192449e-03\n",
      "   5.62858317e-03  2.71060200e-03  3.77115590e-03  1.42398682e-03]\n",
      " [-1.67833391e-03  8.93753339e-04  6.15515342e-04  3.57544684e-03\n",
      "   3.87289488e-04 -7.19645331e-04  1.07621262e-03  3.25896227e-03\n",
      "   5.46681575e-04  1.12695580e-04  3.12689454e-04 -6.99216873e-04]\n",
      " [-1.96886522e-03 -2.75012789e-03 -1.05681941e-03 -1.85120728e-03\n",
      "  -2.64716502e-03 -2.64677207e-03 -3.57370502e-03 -3.53767650e-03\n",
      "   1.13482672e-03 -2.53576473e-04 -1.28787521e-03 -9.99941346e-04]\n",
      " [-1.92976503e-03  3.13382231e-04 -1.29449832e-03 -6.60638091e-04\n",
      "   1.00925516e-04 -1.40662261e-03 -1.36925847e-03  2.82427610e-04\n",
      "   1.07751272e-03 -1.51664154e-03  1.68140576e-03  1.66430397e-03]\n",
      " [-7.21931483e-03 -3.62464020e-03 -7.14256337e-03 -6.99274070e-03\n",
      "  -6.50070406e-03 -5.77140631e-03 -5.01118827e-03 -3.25315889e-03\n",
      "  -9.48045668e-03 -7.55057621e-03 -5.50890654e-03 -2.79172141e-03]\n",
      " [ 2.84792608e-03 -7.28132397e-04  1.52234773e-03  4.74498580e-04\n",
      "  -1.58919804e-04  1.17434414e-03  1.21639232e-03  2.93098414e-04\n",
      "  -3.49447156e-03 -1.20827034e-03 -2.28153243e-03 -7.14965654e-04]\n",
      " [ 1.21137468e-03  1.59618352e-03  4.37316163e-03 -4.56202890e-04\n",
      "  -1.49243941e-04 -8.04690291e-04  1.09009796e-03 -2.18907414e-03\n",
      "   1.24823194e-04  1.37409600e-03 -1.37269059e-03  1.79519647e-03]\n",
      " [ 5.00744552e-03  4.95807452e-03  2.66745794e-03  3.82035112e-03\n",
      "   7.36972217e-03  3.07837019e-03  2.43295619e-03  4.96404022e-03\n",
      "   1.81728099e-03  4.62993850e-03  7.48123893e-03  2.68665352e-03]]\n",
      "[[ 1.40744776e-03  9.96666857e-04  6.11852041e-04  5.29745912e-04\n",
      "   2.83723675e-04  1.11868901e-03  1.14501660e-03 -1.37319163e-04\n",
      "   4.72740885e-04  6.13498794e-04  6.08751320e-04 -4.27841589e-04]\n",
      " [-7.66276188e-05 -1.02026153e-04 -8.88869394e-05 -1.31647781e-04\n",
      "  -6.75358287e-05 -7.76468425e-05 -8.29702132e-05 -6.93374188e-05\n",
      "  -6.13350515e-05 -9.35117967e-05 -3.50201358e-05 -4.43411949e-05]\n",
      " [-2.98616064e-05 -1.01611502e-04 -7.28471884e-05 -1.25527763e-04\n",
      "  -1.91703820e-05 -3.57355781e-05 -5.55049832e-05 -4.14216990e-05\n",
      "  -2.74782771e-05 -5.94346500e-05 -2.73720127e-05 -2.06041931e-05]\n",
      " [-4.28305711e-05 -8.48531086e-05 -1.01760420e-04 -9.05386159e-05\n",
      "  -4.10387923e-05 -3.39608105e-05 -6.12754491e-05 -6.35872408e-05\n",
      "  -9.50793161e-05 -7.76436896e-05 -5.54187413e-06 -1.67874132e-05]\n",
      " [-5.25689788e-05 -1.05615168e-04 -5.54927706e-05 -3.84036719e-05\n",
      "  -4.65805586e-05 -4.00970295e-05 -5.63325825e-05 -5.07176325e-05\n",
      "  -6.15855093e-05 -8.75553964e-05 -2.73728445e-05  5.08550159e-06]\n",
      " [-4.79553787e-05 -8.04393173e-05 -5.21777313e-05 -1.05754140e-04\n",
      "  -4.90818216e-05 -5.61205002e-05 -2.89863335e-05 -1.31878111e-05\n",
      "  -3.08632888e-06 -5.15491715e-05  9.03671950e-06  4.45266999e-06]\n",
      " [-6.97512349e-05 -8.25232026e-05 -6.09563933e-05 -4.42728827e-05\n",
      "  -4.71330350e-05 -6.13262806e-05 -5.58176709e-05 -2.50245843e-05\n",
      "  -4.09413308e-05 -6.68047412e-05 -1.66090052e-05 -2.70692612e-05]\n",
      " [-7.11026314e-05 -1.05525428e-04 -8.29554093e-05 -1.02826699e-04\n",
      "  -6.14994150e-05 -7.47442088e-05 -8.34737357e-05 -6.30241501e-05\n",
      "  -5.09647896e-05 -7.82943786e-05 -2.55775239e-05 -3.09015119e-05]\n",
      " [-5.27991954e-05 -5.26159400e-05 -5.90635187e-05 -1.00491124e-04\n",
      "  -1.92639484e-05 -6.24073450e-05 -5.01501677e-05 -5.77783149e-06\n",
      "  -1.27442244e-05 -6.08532014e-05  2.23643379e-05  1.90980101e-05]\n",
      " [-1.21148774e-04 -9.64176571e-05 -1.39460607e-04 -1.70740251e-04\n",
      "  -1.15822989e-04 -1.13868876e-04 -9.74939752e-05 -7.33672335e-05\n",
      "  -1.69059445e-04 -1.47214778e-04 -6.89983746e-05 -3.37760660e-05]\n",
      " [-6.60434875e-05 -1.10847074e-04 -9.38172309e-05 -1.23563527e-04\n",
      "  -7.36394272e-05 -7.10625175e-05 -7.68451671e-05 -6.92262762e-05\n",
      "  -1.07142107e-04 -1.09976620e-04 -4.66524980e-05 -2.99558994e-05]\n",
      " [-3.18790990e-05 -5.15253314e-05 -1.11298104e-06 -8.95155268e-05\n",
      "  -4.39839669e-05 -6.11446738e-05 -2.62207726e-05 -4.71490062e-05\n",
      "  -3.84268265e-05 -4.59975787e-05 -2.40094942e-05  2.32270574e-05]\n",
      " [ 2.40739631e-06 -2.24288604e-05 -4.86085275e-05 -6.41281824e-05\n",
      "   3.89568422e-05 -1.91795090e-05 -3.23170515e-05  5.89109950e-06\n",
      "  -3.21402292e-05 -1.93818332e-05  7.00237832e-05  1.94315979e-05]]\n"
     ]
    }
   ],
   "source": [
    "print('RIDGES')\n",
    "stockRegg.RSSRidgeSolve(complexity=100)\n",
    "logStockRegg.RSSRidgeSolve(complexity=100)"
   ]
  },
  {
   "cell_type": "code",
   "execution_count": 50,
   "metadata": {},
   "outputs": [],
   "source": [
    "def MeasureNorm(Y, X, B):\n",
    "    return 1/2*1/len(Y)*np.trace(np.dot(np.transpose(np.dot(X, B) - Y), np.dot(X, B) - Y))"
   ]
  },
  {
   "cell_type": "code",
   "execution_count": 77,
   "metadata": {},
   "outputs": [
    {
     "name": "stdout",
     "output_type": "stream",
     "text": [
      "0.0018619414509031705\n",
      "0.0020959420780431084\n"
     ]
    }
   ],
   "source": [
    "print(MeasureNorm(stockRegg.outputArray, stockRegg.inputArray, stockRegg.ridgeBestFit))\n",
    "print(MeasureNorm(logStockRegg.outputArray, logStockRegg.inputArray, logStockRegg.ridgeBestFit))"
   ]
  },
  {
   "cell_type": "code",
   "execution_count": 78,
   "metadata": {},
   "outputs": [],
   "source": [
    "inputArray2019 = np.zeros((len(companies2019['AAPL'])-1,len(companyNames)))\n",
    "outputArray2019 = np.zeros((len(companies2019['AAPL'])-1, len(companyNames)))\n",
    "logInputArray2019 = np.zeros((len(logCompanies2019['AAPL'])-1, len(companyNames)))\n",
    "logOutputArray2019 = np.zeros((len(logCompanies2019['AAPL'])-1, len(companyNames)))\n",
    "for ii in range(len(companies2019['AAPL']) - 1):\n",
    "    for jj in range(len(companyNames)):\n",
    "        inputArray2019[ii][jj] = companies2019[companyNames[jj]][ii]\n",
    "        outputArray2019[ii][jj] = companies2019[companyNames[jj]][ii+1]\n",
    "        logInputArray2019[ii][jj] = logCompanies2019[companyNames[jj]][ii]\n",
    "        logOutputArray2019[ii][jj] = logCompanies2019[companyNames[jj]][ii+1]\n",
    "inputArray2019 = stockRegg.standardizeTest(inputArray2019)\n",
    "logInputArray2019 = logStockRegg.standardizeTest(logInputArray2019)\n",
    "                                                      "
   ]
  },
  {
   "cell_type": "code",
   "execution_count": 79,
   "metadata": {},
   "outputs": [],
   "source": [
    "inputArray2018 = np.zeros((len(companies2018['AAPL'])-1,len(companyNames)))\n",
    "outputArray2018 = np.zeros((len(companies2018['AAPL'])-1, len(companyNames)))\n",
    "logInputArray2018 = np.zeros((len(logCompanies2018['AAPL'])-1, len(companyNames)))\n",
    "logOutputArray2018 = np.zeros((len(logCompanies2018['AAPL'])-1, len(companyNames)))\n",
    "for ii in range(len(companies2018['AAPL']) - 1):\n",
    "    for jj in range(len(companyNames)):\n",
    "        inputArray2018[ii][jj] = companies2018[companyNames[jj]][ii]\n",
    "        outputArray2018[ii][jj] = companies2018[companyNames[jj]][ii+1]\n",
    "        logInputArray2018[ii][jj] = logCompanies2018[companyNames[jj]][ii]\n",
    "        logOutputArray2018[ii][jj] = logCompanies2018[companyNames[jj]][ii+1]\n",
    "inputArray2018 = stockRegg.standardizeTest(inputArray2018)\n",
    "logInputArray2018 = logStockRegg.standardizeTest(logInputArray2018)\n",
    "                                                      "
   ]
  },
  {
   "cell_type": "code",
   "execution_count": 80,
   "metadata": {},
   "outputs": [
    {
     "name": "stdout",
     "output_type": "stream",
     "text": [
      "0.000707889734011212\n"
     ]
    }
   ],
   "source": [
    "print(MeasureNorm(outputArray2019, inputArray2019, stockRegg.ridgeBestFit))"
   ]
  },
  {
   "cell_type": "code",
   "execution_count": 81,
   "metadata": {},
   "outputs": [
    {
     "name": "stdout",
     "output_type": "stream",
     "text": [
      "0.0006793236235190416\n"
     ]
    }
   ],
   "source": [
    "print(MeasureNorm(logOutputArray2019, logInputArray2019, logStockRegg.ridgeBestFit))"
   ]
  },
  {
   "cell_type": "code",
   "execution_count": 82,
   "metadata": {},
   "outputs": [
    {
     "name": "stdout",
     "output_type": "stream",
     "text": [
      "0.0014739357285175549\n"
     ]
    }
   ],
   "source": [
    "print(MeasureNorm(outputArray2018, inputArray2018, stockRegg.ridgeBestFit))"
   ]
  },
  {
   "cell_type": "code",
   "execution_count": 83,
   "metadata": {},
   "outputs": [
    {
     "name": "stdout",
     "output_type": "stream",
     "text": [
      "0.001446114953897549\n"
     ]
    }
   ],
   "source": [
    "print(MeasureNorm(logOutputArray2018, logInputArray2018, logStockRegg.ridgeBestFit))"
   ]
  },
  {
   "cell_type": "code",
   "execution_count": 84,
   "metadata": {},
   "outputs": [],
   "source": [
    "def trade(money, percent, x, y, B):\n",
    "    moneyToBet = money*percent\n",
    "    predict = np.dot(x, B)\n",
    "    bestIndex = np.argmax(predict)\n",
    "    if predict[bestIndex] <= 1:\n",
    "        return money\n",
    "    else:\n",
    "        money += moneyToBet*y[bestIndex]\n",
    "        money -= moneyToBet\n",
    "        return money\n",
    "        \n",
    "        "
   ]
  },
  {
   "cell_type": "code",
   "execution_count": 85,
   "metadata": {},
   "outputs": [],
   "source": [
    "def logTrade(money, percent, x, y, B):\n",
    "    moneyToBet = money*percent\n",
    "    predict = np.dot(x, B)\n",
    "    bestIndex = np.argmax(predict)\n",
    "    if predict[bestIndex] <= 0:\n",
    "        return money\n",
    "    else:\n",
    "        money += moneyToBet*np.exp(y[bestIndex])\n",
    "        money -= moneyToBet\n",
    "        return money"
   ]
  },
  {
   "cell_type": "code",
   "execution_count": 86,
   "metadata": {},
   "outputs": [],
   "source": [
    "def testPercent(percent, inputA, outputA, bestFit):\n",
    "    MONEY = 1000\n",
    "    for ii in range(len(outputA)-1, -1, -1):\n",
    "        MONEY = trade(MONEY, percent, inputA[ii], outputA[ii], bestFit)\n",
    "    return MONEY/1000\n"
   ]
  },
  {
   "cell_type": "code",
   "execution_count": 87,
   "metadata": {},
   "outputs": [],
   "source": [
    "def logTestPercent(percent, inputA, outputA, bestFit):\n",
    "    MONEY = 1000\n",
    "    for ii in range(len(outputA)-1, -1, -1):\n",
    "        MONEY = logTrade(MONEY, percent, inputA[ii], outputA[ii], bestFit)\n",
    "    return MONEY/1000"
   ]
  },
  {
   "cell_type": "code",
   "execution_count": 89,
   "metadata": {},
   "outputs": [
    {
     "name": "stdout",
     "output_type": "stream",
     "text": [
      "1.2430757236861965\n",
      "1.1913590462867376\n",
      "1.3197526618313098\n",
      "0.9575195443352609\n"
     ]
    }
   ],
   "source": [
    "print(testPercent(1, inputArray2019, outputArray2019, stockRegg.ridgeBestFit))\n",
    "print(testPercent(1, inputArray2018, outputArray2018, stockRegg.ridgeBestFit))\n",
    "print(logTestPercent(1, logInputArray2019, logOutputArray2019, stockRegg.ridgeBestFit))\n",
    "print(logTestPercent(1, logInputArray2018, logOutputArray2018, stockRegg.ridgeBestFit))\n"
   ]
  },
  {
   "cell_type": "code",
   "execution_count": 93,
   "metadata": {},
   "outputs": [
    {
     "data": {
      "text/plain": [
       "[<matplotlib.lines.Line2D at 0x242d4eaa610>]"
      ]
     },
     "execution_count": 93,
     "metadata": {},
     "output_type": "execute_result"
    },
    {
     "data": {
      "image/png": "[encoded data removed]",
      "text/plain": [
       "<Figure size 432x288 with 1 Axes>"
      ]
     },
     "metadata": {
      "needs_background": "light"
     },
     "output_type": "display_data"
    }
   ],
   "source": [
    "graphingX = np.arange(0, 10000, 1)\n",
    "graphingY2019 = np.zeros(10000)\n",
    "for ii in range(len(graphingX)):\n",
    "    tempRidgeBestFit = stockRegg.RSSRidgeSolve(graphingX[ii])\n",
    "    graphingY2019[ii] = testPercent(1, inputArray2019, outputArray2019, tempRidgeBestFit)\n",
    "plt.plot(graphingX, graphingY2019)"
   ]
  },
  {
   "cell_type": "code",
   "execution_count": 94,
   "metadata": {},
   "outputs": [
    {
     "data": {
      "text/plain": [
       "[<matplotlib.lines.Line2D at 0x242d4f6bcd0>]"
      ]
     },
     "execution_count": 94,
     "metadata": {},
     "output_type": "execute_result"
    },
    {
     "data": {
      "image/png": "[encoded data removed]",
      "text/plain": [
       "<Figure size 432x288 with 1 Axes>"
      ]
     },
     "metadata": {
      "needs_background": "light"
     },
     "output_type": "display_data"
    }
   ],
   "source": [
    "graphingX = np.arange(0, 10000, 1)\n",
    "graphingY2018 = np.zeros(10000)\n",
    "for ii in range(len(graphingX)):\n",
    "    tempRidgeBestFit = stockRegg.RSSRidgeSolve(graphingX[ii])\n",
    "    graphingY2018[ii] = testPercent(1, inputArray2018, outputArray2018, tempRidgeBestFit)\n",
    "plt.plot(graphingX, graphingY2018)"
   ]
  },
  {
   "cell_type": "code",
   "execution_count": 97,
   "metadata": {},
   "outputs": [
    {
     "name": "stdout",
     "output_type": "stream",
     "text": [
      "[1.28577376 1.29111816 1.28466915 ... 1.33762285 1.33370575 1.33370575]\n",
      "462\n",
      "1.8212155291428636\n"
     ]
    }
   ],
   "source": [
    "total = np.multiply(graphingY2019, graphingY2018)\n",
    "print(total)\n",
    "ind = np.argmax(total)\n",
    "print(ind)\n",
    "print(total[ind])"
   ]
  },
  {
   "cell_type": "code",
   "execution_count": 98,
   "metadata": {},
   "outputs": [
    {
     "data": {
      "text/plain": [
       "[<matplotlib.lines.Line2D at 0x242d4fc4fa0>]"
      ]
     },
     "execution_count": 98,
     "metadata": {},
     "output_type": "execute_result"
    },
    {
     "data": {
      "image/png": "[encoded data removed]",
      "text/plain": [
       "<Figure size 432x288 with 1 Axes>"
      ]
     },
     "metadata": {
      "needs_background": "light"
     },
     "output_type": "display_data"
    }
   ],
   "source": [
    "graphingX = np.arange(0, 10000, 1)\n",
    "logGraphingY2019 = np.zeros(10000)\n",
    "for ii in range(len(graphingX)):\n",
    "    tempRidgeBestFit = logStockRegg.RSSRidgeSolve(graphingX[ii])\n",
    "    logGraphingY2019[ii] = logTestPercent(1, logInputArray2019, logOutputArray2019, tempRidgeBestFit)\n",
    "plt.plot(graphingX, logGraphingY2019)"
   ]
  },
  {
   "cell_type": "code",
   "execution_count": 99,
   "metadata": {},
   "outputs": [
    {
     "data": {
      "text/plain": [
       "[<matplotlib.lines.Line2D at 0x242d5a261f0>]"
      ]
     },
     "execution_count": 99,
     "metadata": {},
     "output_type": "execute_result"
    },
    {
     "data": {
      "image/png": "[encoded data removed]",
      "text/plain": [
       "<Figure size 432x288 with 1 Axes>"
      ]
     },
     "metadata": {
      "needs_background": "light"
     },
     "output_type": "display_data"
    }
   ],
   "source": [
    "graphingX = np.arange(0, 10000, 1)\n",
    "logGraphingY2018 = np.zeros(10000)\n",
    "for ii in range(len(graphingX)):\n",
    "    tempRidgeBestFit = logStockRegg.RSSRidgeSolve(graphingX[ii])\n",
    "    logGraphingY2018[ii] = logTestPercent(1, logInputArray2018, logOutputArray2018, tempRidgeBestFit)\n",
    "plt.plot(graphingX, logGraphingY2018)"
   ]
  },
  {
   "cell_type": "code",
   "execution_count": 101,
   "metadata": {},
   "outputs": [
    {
     "name": "stdout",
     "output_type": "stream",
     "text": [
      "[1.37421623 1.33388268 1.37359702 ... 1.35082629 1.35082629 1.35082629]\n",
      "1293\n",
      "2.035703168078876\n"
     ]
    }
   ],
   "source": [
    "logTotal = np.multiply(logGraphingY2019, logGraphingY2018)\n",
    "print(logTotal)\n",
    "logInd = np.argmax(logTotal)\n",
    "print(logInd)\n",
    "print(logTotal[logInd])"
   ]
  },
  {
   "cell_type": "code",
   "execution_count": null,
   "metadata": {},
   "outputs": [],
   "source": [
    "\n",
    "    "
   ]
  },
  {
   "cell_type": "code",
   "execution_count": null,
   "metadata": {},
   "outputs": [],
   "source": []
  },
  {
   "cell_type": "code",
   "execution_count": null,
   "metadata": {},
   "outputs": [],
   "source": [
    "for ii in range(len(companyNames) + 1):\n",
    "    z = stockRegg.ridgeZScore(index=ii)\n",
    "    if ii > 0:\n",
    "        print(companyNames[ii-1])\n",
    "    print(z)\n",
    "    print(linalg.norm(z))    "
   ]
  },
  {
   "cell_type": "code",
   "execution_count": null,
   "metadata": {},
   "outputs": [],
   "source": []
  },
  {
   "cell_type": "code",
   "execution_count": null,
   "metadata": {},
   "outputs": [],
   "source": []
  }
 ],
 "metadata": {
  "kernelspec": {
   "display_name": "Python 3",
   "language": "python",
   "name": "python3"
  },
  "language_info": {
   "codemirror_mode": {
    "name": "ipython",
    "version": 3
   },
   "file_extension": ".py",
   "mimetype": "text/x-python",
   "name": "python",
   "nbconvert_exporter": "python",
   "pygments_lexer": "ipython3",
   "version": "3.8.6"
  }
 },
 "nbformat": 4,
 "nbformat_minor": 4
}
