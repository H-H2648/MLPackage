{
 "cells": [
  {
   "cell_type": "code",
   "execution_count": 1,
   "metadata": {},
   "outputs": [],
   "source": [
    "import numpy as np\n",
    "from scipy import linalg\n",
    "from LinRegg import LinRegg\n",
    "import matplotlib.pyplot as plt\n",
    "from scipy.stats import norm\n",
    "import matplotlib.pyplot as plt\n",
    "import random\n"
   ]
  },
  {
   "cell_type": "code",
   "execution_count": 2,
   "metadata": {},
   "outputs": [],
   "source": [
    "#basicPrep\n",
    "inputLst = []\n",
    "outputLst = []\n",
    "oneDimensionInput = []\n",
    "#already standardized\n",
    "for ii in range(-10, 11):\n",
    "    inputLst.append([ii, ii**2, ii**3])\n",
    "    oneDimensionInput.append(ii)\n",
    "for ii in range(21):\n",
    "    outputLst.append(ii**3 + ii*2 - ii + 10 + random.uniform(-20, 20))\n",
    "X = np.array(inputLst)\n",
    "y = np.array(outputLst)\n",
    "oneDimensionInput = np.array(oneDimensionInput)\n",
    "cubeRegg = LinRegg(X, y)"
   ]
  },
  {
   "cell_type": "code",
   "execution_count": 3,
   "metadata": {},
   "outputs": [
    {
     "data": {
      "text/plain": [
       "[<matplotlib.lines.Line2D at 0x24eafbbe400>]"
      ]
     },
     "execution_count": 3,
     "metadata": {},
     "output_type": "execute_result"
    },
    {
     "data": {
      "image/png": "[encoded data removed]",
      "text/plain": [
       "<Figure size 432x288 with 1 Axes>"
      ]
     },
     "metadata": {
      "needs_background": "light"
     },
     "output_type": "display_data"
    }
   ],
   "source": [
    "#pointwise confidence interval\n",
    "#mean = bestFit\n",
    "#variance = yVariance^2*x0^T*(X^TX)^(-1)*x0\n",
    "cubeRegg.RSSSolve()\n",
    "meanBest = cubeRegg.bestFit\n",
    "yVariance = cubeRegg.approximateVariance()\n",
    "xAxis = np.linspace(-10, 10, 1000)\n",
    "fig, ax = plt.subplots()\n",
    "plt.plot(oneDimensionInput, y, label = \"Example Points\")\n",
    "bestFitYAxis = np.ones(1000)*meanBest[0] + xAxis*meanBest[1] + xAxis**2*meanBest[2] + xAxis**3*meanBest[3]\n",
    "plt.plot(xAxis, bestFitYAxis, label = \"Best Fit\")=\n",
    "pointwiseVar = []\n",
    "X = cubeRegg.inputArray\n",
    "for x in xAxis:\n",
    "    fundamentalArray = np.array([1, x, x**2, x**3])\n",
    "    matrix = linalg.inv(np.dot(X.transpose(), X))\n",
    "    pointwiseVar.append(np.dot(fundamentalArray, np.dot(matrix, fundamentalArray)))\n",
    "pointwiseVar = np.array(pointwiseVar)\n",
    "highYEstimate = bestFitYAxis + pointwiseVar*norm.ppf(0.975)\n",
    "lowYEstimate = bestFitYAxis + pointwiseVar*norm.ppf(0.025)\n",
    "plt.plot(xAxis, highYEstiamte, label = \"High Estimate\")\n",
    "plt.plot(xAxis, lowYEstimate, label = \"Low Estimate\")\n",
    "\n",
    "\n",
    "\n",
    "\n",
    "\n"
   ]
  },
  {
   "cell_type": "code",
   "execution_count": null,
   "metadata": {},
   "outputs": [],
   "source": []
  }
 ],
 "metadata": {
  "kernelspec": {
   "display_name": "Python 3",
   "language": "python",
   "name": "python3"
  },
  "language_info": {
   "codemirror_mode": {
    "name": "ipython",
    "version": 3
   },
   "file_extension": ".py",
   "mimetype": "text/x-python",
   "name": "python",
   "nbconvert_exporter": "python",
   "pygments_lexer": "ipython3",
   "version": "3.8.6"
  }
 },
 "nbformat": 4,
 "nbformat_minor": 4
}
