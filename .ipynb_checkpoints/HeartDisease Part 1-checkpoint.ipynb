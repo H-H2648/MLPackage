{
 "cells": [
  {
   "cell_type": "code",
   "execution_count": null,
   "metadata": {},
   "outputs": [],
   "source": [
    "from LinClass import LinClass\n",
    "from LinRegg import LinRegg\n",
    "import numpy as np\n",
    "import math\n",
    "import matplotlib.pyplot as plt\n",
    "from scipy.special import expit"
   ]
  },
  {
   "cell_type": "code",
   "execution_count": null,
   "metadata": {},
   "outputs": [],
   "source": [
    "heartData = np.loadtxt('cleanedSAheart.data.txt', skiprows=1)[:, 1:]\n",
    "arrayY = heartData[:,-1]\n",
    "y = np.zeros((len(heartData), 2))\n",
    "for ii in range(len(heartData)):\n",
    "    if arrayY[ii] == 0:\n",
    "        y[ii] = np.array([1, 0])\n",
    "    elif arrayY[ii] == 1:\n",
    "        y[ii] = np.array([0, 1])\n",
    "    else:\n",
    "        print('something wrong')\n",
    "        print(ii)\n",
    "        print(y[ii])\n",
    "X = heartData[:,0:-1]\n",
    "Xtrain, Xtest = X[:int(len(heartData)/3)], X[int(len(heartData)/3):]\n",
    "ytrain, ytest = y[:int(len(heartData)/3)], y[int(len(heartData)/3):]"
   ]
  },
  {
   "cell_type": "code",
   "execution_count": null,
   "metadata": {},
   "outputs": [],
   "source": [
    "heartClass = LinClass(Xtrain, ytrain, indicatorArray = ['no heart attack', 'heart attack'])\n",
    "heartClass.binaryLogisticRegg()"
   ]
  },
  {
   "cell_type": "code",
   "execution_count": null,
   "metadata": {},
   "outputs": [],
   "source": [
    "XtestStandardized = heartClass.standardizeTest(Xtest)\n",
    "logisticFit = heartClass.logisticReggBestFit\n",
    "print(logisticFit)\n",
    "correct = 0\n",
    "total = 0\n",
    "for ii in range(len(XtestStandardized)):\n",
    "    x = XtestStandardized[ii]\n",
    "    probability = expit(-np.dot(x, logisticFit))\n",
    "    if probability > 1/2:\n",
    "        result = np.array([1, 0])\n",
    "    else:\n",
    "        result = np.array([0, 1])\n",
    "    if (result == ytest[ii]).all():\n",
    "        correct+=1 \n",
    "    total +=1\n",
    "print(correct/total)\n",
    "        "
   ]
  },
  {
   "cell_type": "code",
   "execution_count": null,
   "metadata": {},
   "outputs": [],
   "source": [
    "XtestStandardized = heartClass.standardizeTest(Xtest)\n",
    "graphingX = np.arange(0, 10, 1)\n",
    "graphingY = np.zeros(10)\n",
    "for ii in range(len(graphingX)):\n",
    "    bestFit = heartClass.binaryLogisticReggLasso(complexity=graphingX[ii])\n",
    "    print(bestFit)\n",
    "    correct = 0\n",
    "    total = 0\n",
    "    print(ii)\n",
    "    for jj in range(len(XtestStandardized)):\n",
    "        x = XtestStandardized[jj]\n",
    "        probability = expit(-np.dot(x, bestFit))\n",
    "        if probability > 1/2:\n",
    "            result = np.array([1, 0])\n",
    "        else:\n",
    "            result = np.array([0, 1])\n",
    "        if (result == ytest[jj]).all():\n",
    "            correct+=1\n",
    "        total +=1\n",
    "    print((correct, total))\n",
    "    print(correct/total)\n",
    "    graphingY[ii] = correct/total\n",
    "plt.plot(graphingX, graphingY)"
   ]
  },
  {
   "cell_type": "code",
   "execution_count": null,
   "metadata": {},
   "outputs": [],
   "source": [
    "heartClass.setProbabilities()\n",
    "heartClass.setMeans()\n",
    "heartClass.setLinearCovariance()\n",
    "correct = 0\n",
    "total = 0\n",
    "for ii in range(len(Xtest)):\n",
    "    x = Xtest[ii]\n",
    "    guess = heartClass.optimizedLDASolve(x)\n",
    "    index = np.nonzero(ytest[ii])[0][0]\n",
    "    answer = heartClass.indicators[index]\n",
    "    if (guess == answer):\n",
    "        correct+=1\n",
    "    total +=1\n",
    "print(correct/total)"
   ]
  },
  {
   "cell_type": "code",
   "execution_count": null,
   "metadata": {},
   "outputs": [],
   "source": [
    "correct = 0\n",
    "total = 0\n",
    "for ii in range(len(Xtest)):\n",
    "    x = Xtest[ii]\n",
    "    guess = heartClass.QDASolve(x)\n",
    "    index = np.nonzero(ytest[ii])[0][0]\n",
    "    answer = heartClass.indicators[index]\n",
    "    if (guess == answer):\n",
    "        correct+=1\n",
    "    total +=1\n",
    "print(correct/total)"
   ]
  },
  {
   "cell_type": "code",
   "execution_count": null,
   "metadata": {},
   "outputs": [],
   "source": [
    "heartRegg = LinRegg(Xtrain, ytrain)\n",
    "heartRegg.standardizePredictor()\n",
    "heartRegg.RSSSolve()\n",
    "bestFit = heartRegg.bestFit\n",
    "XtestReggStandardized = heartRegg.standardizeTest(Xtest)\n",
    "correct = 0\n",
    "total = 0\n",
    "for ii in range(len(XtestReggStandardized)):\n",
    "    x = XtestReggStandardized[ii]\n",
    "    guess = heartClass.determineClassRegg(x, bestFit)\n",
    "    index = np.nonzero(ytest[ii])[0][0]\n",
    "    answer = heartClass.indicators[index]\n",
    "    if (guess == answer):\n",
    "        correct+=1\n",
    "    total +=1\n",
    "print(correct/total)"
   ]
  },
  {
   "cell_type": "code",
   "execution_count": null,
   "metadata": {},
   "outputs": [],
   "source": [
    "graphingX = np.arange(0, 1000, 0.5)\n",
    "graphingY = np.zeros(2000)\n",
    "XtestReggStandardized = heartRegg.standardizeTest(Xtest)\n",
    "for ii in range(len(graphingX)):\n",
    "    heartRegg.RSSRidgeSolve(complexity=graphingX[ii])\n",
    "    bestFit = heartRegg.ridgeBestFit\n",
    "    correct = 0\n",
    "    total = 0\n",
    "    for jj in range(len(XtestReggStandardized)):\n",
    "        x = XtestReggStandardized[jj]\n",
    "        guess = heartClass.determineClassRegg(x, bestFit)\n",
    "        index = np.nonzero(ytest[jj])[0][0]\n",
    "        answer = heartClass.indicators[index]\n",
    "        if (guess == answer):\n",
    "            correct+=1\n",
    "        total +=1\n",
    "    graphingY[ii] = correct/total\n",
    "plt.plot(graphingX, graphingY)"
   ]
  },
  {
   "cell_type": "code",
   "execution_count": null,
   "metadata": {},
   "outputs": [],
   "source": [
    "print(np.amax(graphingY))\n",
    "print(np.argmax(graphingY)*1/2)"
   ]
  },
  {
   "cell_type": "code",
   "execution_count": null,
   "metadata": {},
   "outputs": [],
   "source": []
  }
 ],
 "metadata": {
  "kernelspec": {
   "display_name": "Python 3",
   "language": "python",
   "name": "python3"
  },
  "language_info": {
   "codemirror_mode": {
    "name": "ipython",
    "version": 3
   },
   "file_extension": ".py",
   "mimetype": "text/x-python",
   "name": "python",
   "nbconvert_exporter": "python",
   "pygments_lexer": "ipython3",
   "version": "3.8.7"
  }
 },
 "nbformat": 4,
 "nbformat_minor": 4
}
