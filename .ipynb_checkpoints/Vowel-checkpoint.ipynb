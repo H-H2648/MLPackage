{
 "cells": [
  {
   "cell_type": "code",
   "execution_count": 1,
   "metadata": {},
   "outputs": [],
   "source": [
    "from LinClass import LinClass\n",
    "from LinRegg import LinRegg\n",
    "import numpy as np\n",
    "import math\n",
    "import matplotlib.pyplot as plt"
   ]
  },
  {
   "cell_type": "code",
   "execution_count": 2,
   "metadata": {},
   "outputs": [],
   "source": [
    "vowelTrain = np.loadtxt('cleanedVowel.train.txt')\n",
    "vowelTrainY = np.zeros((len(vowelTrain), 11))\n",
    "for ii in range(len(vowelTrain[:,0])):\n",
    "    ans = vowelTrain[:,0][ii]\n",
    "    ans = int(ans)\n",
    "    vectorized = np.zeros(11)\n",
    "    vectorized[ans - 1] = 1\n",
    "    vowelTrainY[ii] = vectorized\n",
    "vowelTrainX = vowelTrain[:,1:]\n",
    "vowelTest = np.loadtxt('cleanedVowel.test.txt')\n",
    "vowelTestY = np.zeros((len(vowelTest), 11))\n",
    "for ii in range(len(vowelTest[:,0])):\n",
    "    ans = vowelTest[:,0][ii]\n",
    "    ans = int(ans)\n",
    "    vectorized = np.zeros(11)\n",
    "    vectorized[ans - 1] = 1\n",
    "    vowelTestY[ii] = vectorized\n",
    "vowelTestX = vowelTest[:,1:]"
   ]
  },
  {
   "cell_type": "code",
   "execution_count": 3,
   "metadata": {},
   "outputs": [],
   "source": [
    "vowelClass = LinClass(vowelTrainX, vowelTrainY, indicatorArray = [1, 2, 3, 4, 5, 6, 7, 8, 9, 10, 11])"
   ]
  },
  {
   "cell_type": "code",
   "execution_count": 4,
   "metadata": {},
   "outputs": [],
   "source": [
    "vowelClass.setProbabilities()\n",
    "vowelClass.setMeans()\n",
    "vowelClass.setQuadraticCovariance()\n",
    "#training..."
   ]
  },
  {
   "cell_type": "code",
   "execution_count": 5,
   "metadata": {},
   "outputs": [
    {
     "name": "stdout",
     "output_type": "stream",
     "text": [
      "0.4329004329004329\n"
     ]
    }
   ],
   "source": [
    "correct = 0\n",
    "total = 0\n",
    "for ii in range(len(vowelTestX)):\n",
    "    x = vowelTestX[ii]\n",
    "    guess = vowelClass.QDASolve(x)\n",
    "    index = np.nonzero(vowelTestY[ii])[0][0]\n",
    "    answer = vowelClass.indicators[index]\n",
    "    if (guess == answer):\n",
    "        correct+=1\n",
    "    total +=1\n",
    "print(correct/total)\n",
    "#test...\n",
    "#pretty bad"
   ]
  },
  {
   "cell_type": "code",
   "execution_count": null,
   "metadata": {},
   "outputs": [],
   "source": []
  }
 ],
 "metadata": {
  "kernelspec": {
   "display_name": "Python 3",
   "language": "python",
   "name": "python3"
  },
  "language_info": {
   "codemirror_mode": {
    "name": "ipython",
    "version": 3
   },
   "file_extension": ".py",
   "mimetype": "text/x-python",
   "name": "python",
   "nbconvert_exporter": "python",
   "pygments_lexer": "ipython3",
   "version": "3.8.7"
  }
 },
 "nbformat": 4,
 "nbformat_minor": 4
}
