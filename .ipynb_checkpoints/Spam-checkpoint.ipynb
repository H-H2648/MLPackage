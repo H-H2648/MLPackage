{
 "cells": [
  {
   "cell_type": "code",
   "execution_count": 1,
   "metadata": {},
   "outputs": [],
   "source": [
    "#Excercise 3.17\n",
    "\n",
    "from LinRegg import LinRegg\n",
    "import numpy as np"
   ]
  },
  {
   "cell_type": "code",
   "execution_count": 2,
   "metadata": {},
   "outputs": [],
   "source": [
    "#for calculating test error\n",
    "def RSS(testX, testY, bestFit):\n",
    "    return np.dot(testY - np.dot(testX, bestFit), testY - np.dot(testX, bestFit))/len(testY)"
   ]
  },
  {
   "cell_type": "code",
   "execution_count": 3,
   "metadata": {},
   "outputs": [],
   "source": [
    "X = np.loadtxt('spam.data.txt', skiprows=1)\n",
    "y = np.loadtxt('spam.traintest.txt', skiprows = 1)\n",
    "Xtrain, Xtest = X[:3067], X[3067:]\n",
    "ytrain, ytest = y[:3067], y[3067:]"
   ]
  },
  {
   "cell_type": "code",
   "execution_count": 4,
   "metadata": {},
   "outputs": [
    {
     "name": "stdout",
     "output_type": "stream",
     "text": [
      "[[ 1.          0.31278173  0.31756298 ...  0.12993663  0.95952604\n",
      "   0.83222885]\n",
      " [ 1.         -0.200873   -0.28172148 ...  1.75682509  2.722634\n",
      "   0.83222885]\n",
      " [ 1.         -0.40633489 -0.28172148 ... -0.12850138 -0.23927279\n",
      "   0.83222885]\n",
      " ...\n",
      " [ 1.         -0.40633489  2.00840129 ... -0.20476178 -0.2951308\n",
      "  -1.20159257]\n",
      " [ 1.         -0.40633489 -0.28172148 ... -0.28949555 -0.48705319\n",
      "  -1.20159257]\n",
      " [ 1.          1.61404037 -0.28172148 ... -0.20476178 -0.39825328\n",
      "  -1.20159257]]\n",
      "[0. 1. 0. ... 0. 0. 0.]\n"
     ]
    }
   ],
   "source": [
    "spamLinTest = LinRegg(Xtrain, ytrain)\n",
    "spamLinTest.standardizePredictor()\n",
    "print(spamLinTest.inputArray)\n",
    "print(spamLinTest.outputArray)\n",
    "Xtest = spamLinTest.standardizeTest(Xtest)"
   ]
  },
  {
   "cell_type": "code",
   "execution_count": 5,
   "metadata": {},
   "outputs": [
    {
     "name": "stdout",
     "output_type": "stream",
     "text": [
      "3067\n",
      "3067\n"
     ]
    }
   ],
   "source": [
    "print(len(spamLinTest.inputArray))\n",
    "print(len(spamLinTest.outputArray))"
   ]
  },
  {
   "cell_type": "code",
   "execution_count": 6,
   "metadata": {},
   "outputs": [
    {
     "name": "stdout",
     "output_type": "stream",
     "text": [
      "LEAST SQUARES\n",
      "[ 3.25725465e-01 -1.27985268e-02  6.74808716e-05  2.97709338e-03\n",
      "  2.61707440e-03  1.52022710e-03  2.92066422e-03  8.23543583e-03\n",
      " -4.68268507e-03  7.15538652e-03 -2.04042649e-03  1.40357991e-02\n",
      "  3.15622379e-03  9.17414165e-03  2.07076593e-02 -1.26154944e-03\n",
      "  8.05020238e-03 -1.29452181e-02 -6.50595952e-03 -2.08969766e-03\n",
      "  1.89617764e-02 -1.03392678e-02 -2.79713309e-04  9.14231588e-03\n",
      "  1.38635272e-02  1.90957467e-02 -1.39759032e-03 -3.00931905e-03\n",
      "  3.16259725e-02 -2.09595602e-02  1.03124667e-02 -1.42916372e-02\n",
      " -4.14308142e-02  1.29083547e-02  5.48662467e-02  1.50627063e-03\n",
      " -3.29520127e-03 -1.49351547e-02  3.31386118e-04  1.82323878e-02\n",
      " -1.50497668e-02 -2.45768767e-02  4.67065996e-03 -4.94025286e-03\n",
      " -2.68834413e-03  2.90843759e-03  1.38892976e-02  9.85902203e-03\n",
      "  1.52470549e-02 -1.72692236e-03 -5.95026556e-05 -8.06159965e-03\n",
      "  1.54544991e-02 -1.70142961e-02 -1.75236567e-02  1.08123403e-02\n",
      " -9.20370649e-03  3.99860772e-03  4.48089062e-03]\n",
      "Test Error:\n",
      "0.23856013220987982\n"
     ]
    }
   ],
   "source": [
    "#Least Squares\n",
    "#THE RSS SOLUTION\n",
    "print('LEAST SQUARES')\n",
    "spamLinTest.RSSSolve()\n",
    "print(spamLinTest.bestFit)\n",
    "print('Test Error:')\n",
    "print(RSS(Xtest, ytest, spamLinTest.bestFit))\n"
   ]
  },
  {
   "cell_type": "code",
   "execution_count": 7,
   "metadata": {},
   "outputs": [
    {
     "name": "stdout",
     "output_type": "stream",
     "text": [
      "Best Subset\n",
      "[ 0.32572546  0.02178109  0.01910769  0.02522119  0.01241381 -0.01496532]\n",
      "Test Error:\n",
      "0.22995347453431284\n"
     ]
    }
   ],
   "source": [
    "#Best Subset\n",
    "print('Best Subset')\n",
    "spamLinTest.bestSubsetSolve()\n",
    "print(spamLinTest.bestSubsetBestFit)\n",
    "print('Test Error:')\n",
    "print(RSS(Xtest[:, spamLinTest.bestSubsetList], ytest, spamLinTest.bestSubsetBestFit))"
   ]
  },
  {
   "cell_type": "code",
   "execution_count": 8,
   "metadata": {},
   "outputs": [
    {
     "name": "stdout",
     "output_type": "stream",
     "text": [
      "Ridge\n",
      "[ 3.25725465e-01 -1.18336298e-02 -9.00117582e-05  2.85852688e-03\n",
      "  2.47629604e-03  1.29447759e-03  2.79750034e-03  7.69645307e-03\n",
      " -4.62463808e-03  6.75361297e-03 -1.87580015e-03  1.34792233e-02\n",
      "  2.80495210e-03  8.57743538e-03  2.01568976e-02 -1.23838112e-03\n",
      "  7.79259925e-03 -1.23470858e-02 -6.28829841e-03 -1.91725340e-03\n",
      "  1.82235623e-02 -1.01860600e-02 -4.57797372e-04  8.37717241e-03\n",
      "  1.31011802e-02  1.78386126e-02 -7.78337891e-04 -3.09890911e-03\n",
      "  3.01379222e-02 -1.95648055e-02  9.30011153e-03 -1.29457805e-02\n",
      " -3.71377468e-03  1.23327112e-02  1.54788365e-02  1.75309567e-03\n",
      " -2.96837324e-03 -1.42463106e-02  4.17420203e-04  1.74694310e-02\n",
      " -1.38353497e-02 -2.09104269e-02  3.73671865e-03 -4.90341039e-03\n",
      " -2.88060903e-03  2.75437586e-03  1.02267631e-02  9.47315988e-03\n",
      "  1.45314614e-02 -1.69421646e-03 -4.44811531e-04 -7.91805329e-03\n",
      "  1.47965605e-02 -1.60227764e-02 -1.68032161e-02  1.05188076e-02\n",
      " -8.27165919e-03  3.76306775e-03  4.10731561e-03]\n",
      "Test Error:\n",
      "0.23698639656849685\n"
     ]
    }
   ],
   "source": [
    "#Ridge\n",
    "print('Ridge')\n",
    "spamLinTest.RSSRidgeSolve(complexity=100)\n",
    "print(spamLinTest.ridgeBestFit)\n",
    "print('Test Error:')\n",
    "print(RSS(Xtest, ytest, spamLinTest.ridgeBestFit))"
   ]
  },
  {
   "cell_type": "code",
   "execution_count": 9,
   "metadata": {},
   "outputs": [
    {
     "name": "stdout",
     "output_type": "stream",
     "text": [
      "Lasso\n",
      "[ 3.25725465e-01 -1.27992529e-02  1.40372373e-02  2.07082902e-02\n",
      "  3.16106552e-02 -2.09602930e-02  1.89626386e-02 -2.45762960e-02\n",
      " -1.75251799e-02  1.52485965e-02  1.82283201e-02 -1.49389412e-02\n",
      " -1.70173439e-02  1.54579795e-02  1.90977255e-02  1.29056036e-02\n",
      " -1.29458689e-02  1.38646157e-02 -1.03357447e-02 -1.42910003e-02\n",
      "  9.85851658e-03 -8.06356593e-03  8.23753875e-03  1.08280161e-02\n",
      "  8.05051863e-03  9.14390543e-03  9.17585070e-03  7.15913607e-03\n",
      " -6.50263332e-03 -9.24402243e-03  1.03134126e-02 -4.68311898e-03\n",
      " -4.93836888e-03 -3.00655180e-03 -1.50539436e-02  5.48524029e-02\n",
      "  1.38909499e-02  2.97623021e-03  4.67206305e-03  2.92054308e-03\n",
      "  2.61815409e-03  4.00489370e-03 -2.03933155e-03 -2.68734511e-03\n",
      "  3.15740889e-03  2.90917401e-03  4.48125727e-03 -1.73560876e-03\n",
      "  1.52085793e-03 -3.29431501e-03 -2.08605022e-03 -1.39759350e-03\n",
      " -1.25709808e-03 -4.14245434e-02  1.50763477e-03  3.28927430e-04\n",
      " -2.48988180e-04  0.00000000e+00  4.07455697e-05]\n",
      "Test Error:\n",
      "0.24723508430956537\n"
     ]
    }
   ],
   "source": [
    "#Lasso\n",
    "print('Lasso')\n",
    "spamLinTest.LARLassoAlgorithm()\n",
    "print(spamLinTest.lassoBestFit)\n",
    "print('Test Error:')\n",
    "print(RSS(Xtest, ytest, spamLinTest.lassoBestFit))"
   ]
  },
  {
   "cell_type": "code",
   "execution_count": 10,
   "metadata": {},
   "outputs": [
    {
     "name": "stdout",
     "output_type": "stream",
     "text": [
      "Principal Component Regression\n",
      "[ 3.25725465e-01 -1.27985268e-02  6.74808716e-05  2.97709338e-03\n",
      "  2.61707440e-03  1.52022710e-03  2.92066422e-03  8.23543583e-03\n",
      " -4.68268507e-03  7.15538652e-03 -2.04042649e-03  1.40357991e-02\n",
      "  3.15622379e-03  9.17414165e-03  2.07076593e-02 -1.26154944e-03\n",
      "  8.05020238e-03 -1.29452181e-02 -6.50595952e-03 -2.08969766e-03\n",
      "  1.89617764e-02 -1.03392678e-02 -2.79713309e-04  9.14231588e-03\n",
      "  1.38635272e-02  1.90957467e-02 -1.39759032e-03 -3.00931905e-03\n",
      "  3.16259725e-02 -2.09595602e-02  1.03124667e-02 -1.42916372e-02\n",
      " -4.14308142e-02  1.29083547e-02  5.48662467e-02  1.50627063e-03\n",
      " -3.29520127e-03 -1.49351547e-02  3.31386118e-04  1.82323878e-02\n",
      " -1.50497668e-02 -2.45768767e-02  4.67065996e-03 -4.94025286e-03\n",
      " -2.68834413e-03  2.90843759e-03  1.38892976e-02  9.85902203e-03\n",
      "  1.52470549e-02 -1.72692236e-03 -5.95026556e-05 -8.06159965e-03\n",
      "  1.54544991e-02 -1.70142961e-02 -1.75236567e-02  1.08123403e-02\n",
      " -9.20370649e-03  3.99860772e-03  4.48089062e-03]\n",
      "Test Error:\n",
      "0.23856013220987957\n"
     ]
    }
   ],
   "source": [
    "#Principal Component Regression\n",
    "print('Principal Component Regression')\n",
    "spamLinTest.principalComponentRegression()\n",
    "print(spamLinTest.principalComponentBestFit)\n",
    "print('Test Error:')\n",
    "print(RSS(Xtest, ytest, spamLinTest.principalComponentBestFit))\n"
   ]
  },
  {
   "cell_type": "code",
   "execution_count": 11,
   "metadata": {},
   "outputs": [
    {
     "name": "stdout",
     "output_type": "stream",
     "text": [
      "Partial Least Squares\n",
      "1341061215241086.0\n",
      "[ 3.19346774e+01 -1.04040800e+06 -4.61780541e+06 -2.66239528e+06\n",
      "  5.86099079e+06  1.32591950e+07  2.68480900e+06 -5.78694138e+06\n",
      "  3.65164786e+06 -1.97705266e+06  2.78943028e+05  8.21696245e+06\n",
      " -1.99078735e+06 -8.98427322e+06 -6.49569203e+06 -1.26186875e+05\n",
      " -4.10685345e+06 -5.19971652e+06  2.52232705e+06 -6.14770037e+06\n",
      " -3.17999586e+06 -3.47743920e+06  4.10060558e+06 -1.45715700e+07\n",
      "  5.35073539e+06  2.70486468e+06  8.99605036e+06  6.29116078e+05\n",
      " -8.06065097e+05 -1.80726972e+06 -2.00882861e+06 -7.23994875e+05\n",
      " -9.16380585e+04  1.11759921e+06 -6.84320795e+03 -1.77870113e+06\n",
      " -3.68502155e+05 -1.03619077e+07 -2.61723122e+06 -6.44458826e+05\n",
      " -7.18218801e+05  2.26656113e+06 -2.34615628e+04  1.55462936e+07\n",
      "  9.34026037e+05  3.14386552e+06  2.16774220e+06 -1.62851890e+06\n",
      "  4.91241099e+06 -1.39167482e+07 -9.76992068e+04 -4.64716307e+06\n",
      "  1.01429350e+07  1.27303771e+07 -4.29462414e+06 -9.20530985e+06\n",
      "  1.91397189e+06  1.03326247e+07  4.47198494e+06]\n",
      "Test Error:\n",
      "4399141057969422.5\n"
     ]
    }
   ],
   "source": [
    "#Partial Least Squares\n",
    "print('Partial Least Squares')\n",
    "for M in range(1, spamLinTest.p + 1):\n",
    "    print(M)\n",
    "    spamLinTest.partialLeastSquares(M)\n",
    "    print(spamLinTest.partialLeastSquaresBestFit)\n",
    "    print('Test Error:')\n",
    "    print(RSS(Xtest, ytest, spamLinTest.partialLeastSquaresBestFit))"
   ]
  },
  {
   "cell_type": "code",
   "execution_count": null,
   "metadata": {},
   "outputs": [],
   "source": []
  },
  {
   "cell_type": "code",
   "execution_count": null,
   "metadata": {},
   "outputs": [],
   "source": []
  }
 ],
 "metadata": {
  "kernelspec": {
   "display_name": "Python 3",
   "language": "python",
   "name": "python3"
  },
  "language_info": {
   "codemirror_mode": {
    "name": "ipython",
    "version": 3
   },
   "file_extension": ".py",
   "mimetype": "text/x-python",
   "name": "python",
   "nbconvert_exporter": "python",
   "pygments_lexer": "ipython3",
   "version": "3.8.6"
  }
 },
 "nbformat": 4,
 "nbformat_minor": 4
}
