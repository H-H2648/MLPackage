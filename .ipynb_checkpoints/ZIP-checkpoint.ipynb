{
 "cells": [
  {
   "cell_type": "code",
   "execution_count": 1,
   "metadata": {},
   "outputs": [],
   "source": [
    "import numpy as np\n",
    "from NeuralNetwork import EntropyClassificationNeuralNetwork\n",
    "from NeuralNetwork import SquaredClassificationNeuralNetwork\n",
    "from NeuralNetwork import TestClassificationNeuralNetwork\n",
    "%matplotlib inline \n",
    "from matplotlib import pyplot as plt"
   ]
  },
  {
   "cell_type": "code",
   "execution_count": 2,
   "metadata": {},
   "outputs": [
    {
     "name": "stdout",
     "output_type": "stream",
     "text": [
      "[[ 6.    -1.    -1.    ... -1.    -1.    -1.   ]\n",
      " [ 5.    -1.    -1.    ... -0.671 -0.828 -1.   ]\n",
      " [ 4.    -1.    -1.    ... -1.    -1.    -1.   ]\n",
      " ...\n",
      " [ 3.    -1.    -1.    ... -1.    -1.    -1.   ]\n",
      " [ 0.    -1.    -1.    ... -1.    -1.    -1.   ]\n",
      " [ 1.    -1.    -1.    ... -1.    -1.    -1.   ]]\n",
      "[[-1.    -1.    -1.    ... -1.    -1.    -1.   ]\n",
      " [-1.    -1.    -1.    ... -0.671 -0.828 -1.   ]\n",
      " [-1.    -1.    -1.    ... -1.    -1.    -1.   ]\n",
      " ...\n",
      " [-1.    -1.    -1.    ... -1.    -1.    -1.   ]\n",
      " [-1.    -1.    -1.    ... -1.    -1.    -1.   ]\n",
      " [-1.    -1.    -1.    ... -1.    -1.    -1.   ]]\n"
     ]
    }
   ],
   "source": [
    "ZipData = np.loadtxt('zip.train')\n",
    "print(ZipData)\n",
    "ZipDataX = ZipData[:, 1:]\n",
    "print(ZipDataX)"
   ]
  },
  {
   "cell_type": "code",
   "execution_count": 3,
   "metadata": {},
   "outputs": [
    {
     "name": "stdout",
     "output_type": "stream",
     "text": [
      "[[-1.    -1.    -1.    ... -1.    -1.    -1.   ]\n",
      " [-1.    -1.    -1.    ... -0.671 -0.828 -1.   ]\n",
      " [-1.    -1.    -1.    ... -1.    -1.    -1.   ]\n",
      " ...\n",
      " [-1.    -1.    -1.    ... -1.    -1.    -1.   ]\n",
      " [-1.    -1.    -1.    ... -0.348 -0.348 -0.718]\n",
      " [-1.    -1.    -1.    ... -1.    -1.    -1.   ]]\n"
     ]
    }
   ],
   "source": [
    "ZipDataTrainX = ZipDataX[:320]\n",
    "ZipDataTestX = ZipDataX[320:480]\n",
    "print(ZipDataTrainX)"
   ]
  },
  {
   "cell_type": "code",
   "execution_count": 4,
   "metadata": {},
   "outputs": [
    {
     "name": "stdout",
     "output_type": "stream",
     "text": [
      "[[0. 0. 0. ... 0. 0. 0.]\n",
      " [0. 0. 0. ... 0. 0. 0.]\n",
      " [0. 0. 0. ... 0. 0. 0.]\n",
      " ...\n",
      " [0. 0. 0. ... 0. 0. 0.]\n",
      " [1. 0. 0. ... 0. 0. 0.]\n",
      " [0. 1. 0. ... 0. 0. 0.]]\n"
     ]
    }
   ],
   "source": [
    "def turnNumToVector(num):\n",
    "    num = int(num)\n",
    "    vector = np.zeros(10)\n",
    "    vector[num] = 1\n",
    "    return vector\n",
    "\n",
    "ZipDataY = np.zeros((len(ZipData), 10))\n",
    "for ii in range(len(ZipData[:, 0])):\n",
    "    ZipDataY[ii] = turnNumToVector(ZipData[:,0][ii])\n",
    "print(ZipDataY)\n",
    "ZipDataTrainY = ZipDataY[:320]\n",
    "ZipDataTestY = ZipDataY[320:480]"
   ]
  },
  {
   "cell_type": "code",
   "execution_count": 5,
   "metadata": {},
   "outputs": [
    {
     "data": {
      "image/png": "[encoded data removed]",
      "text/plain": [
       "<Figure size 432x288 with 1 Axes>"
      ]
     },
     "metadata": {
      "needs_background": "light"
     },
     "output_type": "display_data"
    }
   ],
   "source": [
    "plt.imshow(ZipDataTrainX[0].reshape(16, 16), cmap='binary')\n",
    "plt.show()"
   ]
  },
  {
   "cell_type": "code",
   "execution_count": 6,
   "metadata": {},
   "outputs": [
    {
     "data": {
      "image/png": "[encoded data removed]",
      "text/plain": [
       "<Figure size 432x288 with 1 Axes>"
      ]
     },
     "metadata": {
      "needs_background": "light"
     },
     "output_type": "display_data"
    }
   ],
   "source": [
    "plt.imshow(ZipDataTrainX[1].reshape(16, 16), cmap='binary')\n",
    "plt.show()"
   ]
  },
  {
   "cell_type": "code",
   "execution_count": null,
   "metadata": {},
   "outputs": [],
   "source": [
    "ReggNN = SquaredClassificationNeuralNetwork(ZipDataTrainX, ZipDataTrainY, indicators=[0, 1, 2, 3, 4, 5, 6, 7, 8, 9], hiddenNeurons=12)\n",
    "ReggNN.prepareTrain()\n",
    "#ZipDataX = EntropyNN.standardizeTest(ZipDataX)\n",
    "for jj in range(500):\n",
    "    print(jj)\n",
    "    EntropyNN.feed(0.0005)"
   ]
  },
  {
   "cell_type": "code",
   "execution_count": 7,
   "metadata": {},
   "outputs": [
    {
     "name": "stdout",
     "output_type": "stream",
     "text": [
      "0\n",
      "here?\n",
      "-0.04786714604108422\n",
      "[[0. 0. 0. ... 0. 0. 0.]\n",
      " [0. 0. 0. ... 0. 0. 0.]\n",
      " [0. 0. 0. ... 0. 0. 0.]\n",
      " ...\n",
      " [1. 0. 0. ... 0. 0. 0.]\n",
      " [0. 0. 1. ... 0. 0. 0.]\n",
      " [0. 1. 0. ... 0. 0. 0.]]\n",
      "[[0.05389435 0.04414491 0.21331884 ... 0.07499158 0.32327837 0.00916915]\n",
      " [0.15181163 0.02290744 0.04622789 ... 0.11714036 0.05315516 0.00405864]\n",
      " [0.07543759 0.07009389 0.1134825  ... 0.05554856 0.06848443 0.02715605]\n",
      " ...\n",
      " [0.23890701 0.05368445 0.06498693 ... 0.17594743 0.0600046  0.00769165]\n",
      " [0.06651235 0.06383188 0.05352577 ... 0.20607887 0.06006993 0.00556615]\n",
      " [0.06086243 0.02870306 0.16453686 ... 0.13475464 0.13452788 0.00749642]]\n",
      "Current cost error: 894.7236311147626\n",
      "1\n",
      "here?\n",
      "0.054019433681528256\n",
      "[[0. 0. 0. ... 0. 0. 0.]\n",
      " [0. 0. 0. ... 0. 0. 0.]\n",
      " [0. 0. 0. ... 0. 0. 0.]\n",
      " ...\n",
      " [1. 0. 0. ... 0. 0. 0.]\n",
      " [0. 0. 1. ... 0. 0. 0.]\n",
      " [0. 1. 0. ... 0. 0. 0.]]\n",
      "[[0.0562437  0.04459964 0.21561327 ... 0.07523216 0.32473791 0.00907851]\n",
      " [0.16112919 0.02278815 0.04932301 ... 0.11749748 0.05322785 0.00390028]\n",
      " [0.07865107 0.06984937 0.1146872  ... 0.0556407  0.06879581 0.02696487]\n",
      " ...\n",
      " [0.24800035 0.0540276  0.06619612 ... 0.17511577 0.05927881 0.00753524]\n",
      " [0.06823974 0.06637407 0.05543644 ... 0.20761605 0.060617   0.00555357]\n",
      " [0.06103681 0.0307402  0.15944691 ... 0.13573465 0.14293565 0.00748295]]\n",
      "Current cost error: 885.8128480695005\n"
     ]
    },
    {
     "ename": "KeyboardInterrupt",
     "evalue": "",
     "output_type": "error",
     "traceback": [
      "\u001b[1;31m---------------------------------------------------------------------------\u001b[0m",
      "\u001b[1;31mKeyboardInterrupt\u001b[0m                         Traceback (most recent call last)",
      "\u001b[1;32m<ipython-input-7-8eca4335bb81>\u001b[0m in \u001b[0;36m<module>\u001b[1;34m\u001b[0m\n\u001b[0;32m      4\u001b[0m \u001b[1;32mfor\u001b[0m \u001b[0mjj\u001b[0m \u001b[1;32min\u001b[0m \u001b[0mrange\u001b[0m\u001b[1;33m(\u001b[0m\u001b[1;36m500\u001b[0m\u001b[1;33m)\u001b[0m\u001b[1;33m:\u001b[0m\u001b[1;33m\u001b[0m\u001b[1;33m\u001b[0m\u001b[0m\n\u001b[0;32m      5\u001b[0m     \u001b[0mprint\u001b[0m\u001b[1;33m(\u001b[0m\u001b[0mjj\u001b[0m\u001b[1;33m)\u001b[0m\u001b[1;33m\u001b[0m\u001b[1;33m\u001b[0m\u001b[0m\n\u001b[1;32m----> 6\u001b[1;33m     \u001b[0mEntropyNN\u001b[0m\u001b[1;33m.\u001b[0m\u001b[0mfeed\u001b[0m\u001b[1;33m(\u001b[0m\u001b[1;36m0.0005\u001b[0m\u001b[1;33m)\u001b[0m\u001b[1;33m\u001b[0m\u001b[1;33m\u001b[0m\u001b[0m\n\u001b[0m",
      "\u001b[1;32m~\\Documents\\MLPackage\\NeuralNetwork\\__init__.py\u001b[0m in \u001b[0;36mfeed\u001b[1;34m(self, learningRate, batchSize)\u001b[0m\n\u001b[0;32m    158\u001b[0m         \u001b[0mdAs\u001b[0m \u001b[1;33m=\u001b[0m \u001b[0mnp\u001b[0m\u001b[1;33m.\u001b[0m\u001b[0mzeros\u001b[0m\u001b[1;33m(\u001b[0m\u001b[1;33m(\u001b[0m\u001b[0mself\u001b[0m\u001b[1;33m.\u001b[0m\u001b[0mM\u001b[0m\u001b[1;33m,\u001b[0m \u001b[0mself\u001b[0m\u001b[1;33m.\u001b[0m\u001b[0mp\u001b[0m\u001b[1;33m+\u001b[0m\u001b[1;36m1\u001b[0m\u001b[1;33m)\u001b[0m\u001b[1;33m)\u001b[0m\u001b[1;33m\u001b[0m\u001b[1;33m\u001b[0m\u001b[0m\n\u001b[0;32m    159\u001b[0m         \u001b[0mdBs\u001b[0m \u001b[1;33m=\u001b[0m \u001b[0mnp\u001b[0m\u001b[1;33m.\u001b[0m\u001b[0mzeros\u001b[0m\u001b[1;33m(\u001b[0m\u001b[1;33m(\u001b[0m\u001b[0mself\u001b[0m\u001b[1;33m.\u001b[0m\u001b[0mK\u001b[0m\u001b[1;33m,\u001b[0m\u001b[0mself\u001b[0m\u001b[1;33m.\u001b[0m\u001b[0mM\u001b[0m \u001b[1;33m+\u001b[0m \u001b[1;36m1\u001b[0m\u001b[1;33m)\u001b[0m\u001b[1;33m)\u001b[0m\u001b[1;33m\u001b[0m\u001b[1;33m\u001b[0m\u001b[0m\n\u001b[1;32m--> 160\u001b[1;33m         \u001b[0mprint\u001b[0m\u001b[1;33m(\u001b[0m\u001b[1;34m'Current cost error: {0}'\u001b[0m\u001b[1;33m.\u001b[0m\u001b[0mformat\u001b[0m\u001b[1;33m(\u001b[0m\u001b[0mcostError\u001b[0m\u001b[1;33m)\u001b[0m\u001b[1;33m)\u001b[0m\u001b[1;33m\u001b[0m\u001b[1;33m\u001b[0m\u001b[0m\n\u001b[0m\u001b[0;32m    161\u001b[0m         \u001b[1;32mfor\u001b[0m \u001b[0mmm\u001b[0m \u001b[1;32min\u001b[0m \u001b[0mrange\u001b[0m\u001b[1;33m(\u001b[0m\u001b[0mself\u001b[0m\u001b[1;33m.\u001b[0m\u001b[0mM\u001b[0m\u001b[1;33m)\u001b[0m\u001b[1;33m:\u001b[0m\u001b[1;33m\u001b[0m\u001b[1;33m\u001b[0m\u001b[0m\n\u001b[0;32m    162\u001b[0m             \u001b[1;32mfor\u001b[0m \u001b[0mll\u001b[0m \u001b[1;32min\u001b[0m \u001b[0mrange\u001b[0m\u001b[1;33m(\u001b[0m\u001b[0mself\u001b[0m\u001b[1;33m.\u001b[0m\u001b[0mp\u001b[0m \u001b[1;33m+\u001b[0m \u001b[1;36m1\u001b[0m\u001b[1;33m)\u001b[0m\u001b[1;33m:\u001b[0m\u001b[1;33m\u001b[0m\u001b[1;33m\u001b[0m\u001b[0m\n",
      "\u001b[1;32m~\\AppData\\Local\\Packages\\PythonSoftwareFoundation.Python.3.8_qbz5n2kfra8p0\\LocalCache\\local-packages\\Python38\\site-packages\\ipykernel\\iostream.py\u001b[0m in \u001b[0;36mwrite\u001b[1;34m(self, string)\u001b[0m\n\u001b[0;32m    402\u001b[0m             \u001b[0mis_child\u001b[0m \u001b[1;33m=\u001b[0m \u001b[1;33m(\u001b[0m\u001b[1;32mnot\u001b[0m \u001b[0mself\u001b[0m\u001b[1;33m.\u001b[0m\u001b[0m_is_master_process\u001b[0m\u001b[1;33m(\u001b[0m\u001b[1;33m)\u001b[0m\u001b[1;33m)\u001b[0m\u001b[1;33m\u001b[0m\u001b[1;33m\u001b[0m\u001b[0m\n\u001b[0;32m    403\u001b[0m             \u001b[1;31m# only touch the buffer in the IO thread to avoid races\u001b[0m\u001b[1;33m\u001b[0m\u001b[1;33m\u001b[0m\u001b[1;33m\u001b[0m\u001b[0m\n\u001b[1;32m--> 404\u001b[1;33m             \u001b[0mself\u001b[0m\u001b[1;33m.\u001b[0m\u001b[0mpub_thread\u001b[0m\u001b[1;33m.\u001b[0m\u001b[0mschedule\u001b[0m\u001b[1;33m(\u001b[0m\u001b[1;32mlambda\u001b[0m \u001b[1;33m:\u001b[0m \u001b[0mself\u001b[0m\u001b[1;33m.\u001b[0m\u001b[0m_buffer\u001b[0m\u001b[1;33m.\u001b[0m\u001b[0mwrite\u001b[0m\u001b[1;33m(\u001b[0m\u001b[0mstring\u001b[0m\u001b[1;33m)\u001b[0m\u001b[1;33m)\u001b[0m\u001b[1;33m\u001b[0m\u001b[1;33m\u001b[0m\u001b[0m\n\u001b[0m\u001b[0;32m    405\u001b[0m             \u001b[1;32mif\u001b[0m \u001b[0mis_child\u001b[0m\u001b[1;33m:\u001b[0m\u001b[1;33m\u001b[0m\u001b[1;33m\u001b[0m\u001b[0m\n\u001b[0;32m    406\u001b[0m                 \u001b[1;31m# mp.Pool cannot be trusted to flush promptly (or ever),\u001b[0m\u001b[1;33m\u001b[0m\u001b[1;33m\u001b[0m\u001b[1;33m\u001b[0m\u001b[0m\n",
      "\u001b[1;32m~\\AppData\\Local\\Packages\\PythonSoftwareFoundation.Python.3.8_qbz5n2kfra8p0\\LocalCache\\local-packages\\Python38\\site-packages\\ipykernel\\iostream.py\u001b[0m in \u001b[0;36mschedule\u001b[1;34m(self, f)\u001b[0m\n\u001b[0;32m    203\u001b[0m             \u001b[0mself\u001b[0m\u001b[1;33m.\u001b[0m\u001b[0m_events\u001b[0m\u001b[1;33m.\u001b[0m\u001b[0mappend\u001b[0m\u001b[1;33m(\u001b[0m\u001b[0mf\u001b[0m\u001b[1;33m)\u001b[0m\u001b[1;33m\u001b[0m\u001b[1;33m\u001b[0m\u001b[0m\n\u001b[0;32m    204\u001b[0m             \u001b[1;31m# wake event thread (message content is ignored)\u001b[0m\u001b[1;33m\u001b[0m\u001b[1;33m\u001b[0m\u001b[1;33m\u001b[0m\u001b[0m\n\u001b[1;32m--> 205\u001b[1;33m             \u001b[0mself\u001b[0m\u001b[1;33m.\u001b[0m\u001b[0m_event_pipe\u001b[0m\u001b[1;33m.\u001b[0m\u001b[0msend\u001b[0m\u001b[1;33m(\u001b[0m\u001b[1;34mb''\u001b[0m\u001b[1;33m)\u001b[0m\u001b[1;33m\u001b[0m\u001b[1;33m\u001b[0m\u001b[0m\n\u001b[0m\u001b[0;32m    206\u001b[0m         \u001b[1;32melse\u001b[0m\u001b[1;33m:\u001b[0m\u001b[1;33m\u001b[0m\u001b[1;33m\u001b[0m\u001b[0m\n\u001b[0;32m    207\u001b[0m             \u001b[0mf\u001b[0m\u001b[1;33m(\u001b[0m\u001b[1;33m)\u001b[0m\u001b[1;33m\u001b[0m\u001b[1;33m\u001b[0m\u001b[0m\n",
      "\u001b[1;32m~\\AppData\\Local\\Packages\\PythonSoftwareFoundation.Python.3.8_qbz5n2kfra8p0\\LocalCache\\local-packages\\Python38\\site-packages\\zmq\\sugar\\socket.py\u001b[0m in \u001b[0;36msend\u001b[1;34m(self, data, flags, copy, track, routing_id, group)\u001b[0m\n\u001b[0;32m    414\u001b[0m                                  copy_threshold=self.copy_threshold)\n\u001b[0;32m    415\u001b[0m             \u001b[0mdata\u001b[0m\u001b[1;33m.\u001b[0m\u001b[0mgroup\u001b[0m \u001b[1;33m=\u001b[0m \u001b[0mgroup\u001b[0m\u001b[1;33m\u001b[0m\u001b[1;33m\u001b[0m\u001b[0m\n\u001b[1;32m--> 416\u001b[1;33m         \u001b[1;32mreturn\u001b[0m \u001b[0msuper\u001b[0m\u001b[1;33m(\u001b[0m\u001b[0mSocket\u001b[0m\u001b[1;33m,\u001b[0m \u001b[0mself\u001b[0m\u001b[1;33m)\u001b[0m\u001b[1;33m.\u001b[0m\u001b[0msend\u001b[0m\u001b[1;33m(\u001b[0m\u001b[0mdata\u001b[0m\u001b[1;33m,\u001b[0m \u001b[0mflags\u001b[0m\u001b[1;33m=\u001b[0m\u001b[0mflags\u001b[0m\u001b[1;33m,\u001b[0m \u001b[0mcopy\u001b[0m\u001b[1;33m=\u001b[0m\u001b[0mcopy\u001b[0m\u001b[1;33m,\u001b[0m \u001b[0mtrack\u001b[0m\u001b[1;33m=\u001b[0m\u001b[0mtrack\u001b[0m\u001b[1;33m)\u001b[0m\u001b[1;33m\u001b[0m\u001b[1;33m\u001b[0m\u001b[0m\n\u001b[0m\u001b[0;32m    417\u001b[0m \u001b[1;33m\u001b[0m\u001b[0m\n\u001b[0;32m    418\u001b[0m     \u001b[1;32mdef\u001b[0m \u001b[0msend_multipart\u001b[0m\u001b[1;33m(\u001b[0m\u001b[0mself\u001b[0m\u001b[1;33m,\u001b[0m \u001b[0mmsg_parts\u001b[0m\u001b[1;33m,\u001b[0m \u001b[0mflags\u001b[0m\u001b[1;33m=\u001b[0m\u001b[1;36m0\u001b[0m\u001b[1;33m,\u001b[0m \u001b[0mcopy\u001b[0m\u001b[1;33m=\u001b[0m\u001b[1;32mTrue\u001b[0m\u001b[1;33m,\u001b[0m \u001b[0mtrack\u001b[0m\u001b[1;33m=\u001b[0m\u001b[1;32mFalse\u001b[0m\u001b[1;33m,\u001b[0m \u001b[1;33m**\u001b[0m\u001b[0mkwargs\u001b[0m\u001b[1;33m)\u001b[0m\u001b[1;33m:\u001b[0m\u001b[1;33m\u001b[0m\u001b[1;33m\u001b[0m\u001b[0m\n",
      "\u001b[1;32mzmq\\backend\\cython\\socket.pyx\u001b[0m in \u001b[0;36mzmq.backend.cython.socket.Socket.send\u001b[1;34m()\u001b[0m\n",
      "\u001b[1;32mzmq\\backend\\cython\\socket.pyx\u001b[0m in \u001b[0;36mzmq.backend.cython.socket.Socket.send\u001b[1;34m()\u001b[0m\n",
      "\u001b[1;32mzmq\\backend\\cython\\socket.pyx\u001b[0m in \u001b[0;36mzmq.backend.cython.socket._send_copy\u001b[1;34m()\u001b[0m\n",
      "\u001b[1;32m~\\AppData\\Local\\Packages\\PythonSoftwareFoundation.Python.3.8_qbz5n2kfra8p0\\LocalCache\\local-packages\\Python38\\site-packages\\zmq\\backend\\cython\\checkrc.pxd\u001b[0m in \u001b[0;36mzmq.backend.cython.checkrc._check_rc\u001b[1;34m()\u001b[0m\n",
      "\u001b[1;31mKeyboardInterrupt\u001b[0m: "
     ]
    }
   ],
   "source": [
    "EntropyNN = EntropyClassificationNeuralNetwork(ZipDataTrainX, ZipDataTrainY, indicators=[0, 1, 2, 3, 4, 5, 6, 7, 8, 9], hiddenNeurons=12)\n",
    "EntropyNN.prepareTrain()\n",
    "#ZipDataX = EntropyNN.standardizeTest(ZipDataX)\n",
    "for jj in range(500):\n",
    "    print(jj)\n",
    "    EntropyNN.feed(0.0005)"
   ]
  },
  {
   "cell_type": "code",
   "execution_count": null,
   "metadata": {},
   "outputs": [],
   "source": [
    "ZipDataX = EntropyNN.standardizeTest(ZipDataX)\n",
    "result = EntropyNN.predict(ZipDataX)\n",
    "print(1 - (np.count_nonzero(result - ZipData[:,0]))/len(ZipData[:,0]))"
   ]
  },
  {
   "cell_type": "code",
   "execution_count": null,
   "metadata": {},
   "outputs": [],
   "source": [
    "graphingX = np.arange(0, 1, 0.1)\n",
    "graphingY = np.zeros(10)\n",
    "PracticeNN = TestClassificationNeuralNetwork(ZipDataTrainX, ZipDataTrainY, indicators=[0, 1, 2, 3, 4, 5, 6, 7, 8, 9], hiddenNeurons=12)\n",
    "PracticeNN.prepareTrain()\n",
    "ZipDataX = PracticeNN.standardizeTest(ZipDataX)\n",
    "for ii in range(10):\n",
    "    PracticeNN = TestClassificationNeuralNetwork(ZipDataTrainX, ZipDataTrainY, indicators=[0, 1, 2, 3, 4, 5, 6, 7, 8, 9], hiddenNeurons=12, weightDecayRate=0.05*ii)\n",
    "    PracticeNN.prepareTrain()\n",
    "    for jj in range(500):\n",
    "        print(jj)\n",
    "        PracticeNN.feed(0.01)\n",
    "    result = PracticeNN.predict(ZipDataX)\n",
    "    graphingY[ii] = 1 - (np.count_nonzero(result - ZipData[:,0]))/len(ZipData[:,0])\n",
    "plt.plot(graphingX, graphingY)\n",
    "        "
   ]
  },
  {
   "cell_type": "code",
   "execution_count": null,
   "metadata": {},
   "outputs": [],
   "source": [
    "print(graphingY)\n",
    "#0, 0.1, 0.2, 0.3, ..., 0.9\n",
    "#[0.72637498 0.79632424 0.78919215 0.81497737 0.75202304 0.80537649, 0.73940475 0.75188589 0.76957893 0.74434234]"
   ]
  },
  {
   "cell_type": "code",
   "execution_count": null,
   "metadata": {},
   "outputs": [],
   "source": [
    "PracticeNN = TestClassificationNeuralNetwork(ZipDataTrainX, ZipDataTrainY, indicators=[0, 1, 2, 3, 4, 5, 6, 7, 8, 9], hiddenNeurons=12, weightDecayRate = 1)"
   ]
  },
  {
   "cell_type": "code",
   "execution_count": null,
   "metadata": {},
   "outputs": [],
   "source": [
    "PracticeNN.prepareTrain()"
   ]
  },
  {
   "cell_type": "code",
   "execution_count": null,
   "metadata": {},
   "outputs": [],
   "source": [
    "for ii in range(500):\n",
    "    print(ii)\n",
    "    PracticeNN.feed(0.01)"
   ]
  },
  {
   "cell_type": "code",
   "execution_count": null,
   "metadata": {},
   "outputs": [],
   "source": [
    "result = PracticeNN.predict(PracticeNN.inputArray)\n",
    "print(len(ZipData[:,0][:320]))\n",
    "print(np.count_nonzero(result - ZipData[:,0][:320]))\n",
    "print(1 - (np.count_nonzero(result - ZipData[:,0][:320]))/len(ZipData[:,0][:320]))"
   ]
  },
  {
   "cell_type": "code",
   "execution_count": null,
   "metadata": {},
   "outputs": [],
   "source": [
    "ZipDataTestX = PracticeNN.standardizeTest(ZipDataTestX)\n",
    "result = PracticeNN.predict(ZipDataTestX)\n",
    "print(len(ZipData[:,0][320:480]))\n",
    "print(np.count_nonzero(result - ZipData[:,0][320:480]))\n",
    "print(1 - (np.count_nonzero(result - ZipData[:,0][320:480]))/len(ZipData[:,0][320:480]))"
   ]
  },
  {
   "cell_type": "code",
   "execution_count": null,
   "metadata": {},
   "outputs": [],
   "source": [
    "ZipDataX = PracticeNN.standardizeTest(ZipDataX)\n",
    "result = PracticeNN.predict(ZipDataX)\n",
    "print(len(ZipData[:,0]))\n",
    "print(np.count_nonzero(result - ZipData[:,0]))\n",
    "print(1 - (np.count_nonzero(result - ZipData[:,0]))/len(ZipData[:,0]))"
   ]
  },
  {
   "cell_type": "code",
   "execution_count": null,
   "metadata": {},
   "outputs": [],
   "source": [
    "plt.imshow(ZipDataTrainX[8].reshape(16, 16), cmap='binary')\n",
    "plt.show()"
   ]
  },
  {
   "cell_type": "code",
   "execution_count": null,
   "metadata": {},
   "outputs": [],
   "source": [
    "plt.imshow(ZipDataTrainX[9].reshape(16, 16), cmap='binary')\n",
    "plt.show()"
   ]
  },
  {
   "cell_type": "code",
   "execution_count": null,
   "metadata": {},
   "outputs": [],
   "source": [
    "plt.imshow(ZipDataTrainX[10].reshape(16, 16), cmap='binary')\n",
    "plt.show()"
   ]
  },
  {
   "cell_type": "code",
   "execution_count": null,
   "metadata": {},
   "outputs": [],
   "source": [
    "plt.imshow(ZipDataTrainX[11].reshape(16, 16), cmap='binary')\n",
    "plt.show()"
   ]
  },
  {
   "cell_type": "code",
   "execution_count": null,
   "metadata": {},
   "outputs": [],
   "source": [
    "result = PracticeNN.predict(PracticeNN.standardizeTest(np.array([ZipDataTrainX[8], ZipDataTrainX[9], ZipDataTrainX[10], ZipDataTrainX[11]])))\n",
    "print(result)"
   ]
  },
  {
   "cell_type": "code",
   "execution_count": null,
   "metadata": {},
   "outputs": [],
   "source": [
    "EntropyZipNN = EntropyClassificationNeuralNetwork(ZipDataTrainX, ZipDataTrainY, indicators=[0, 1, 2, 3, 4, 5, 6, 7, 8, 9], hiddenNeurons=12)"
   ]
  },
  {
   "cell_type": "code",
   "execution_count": null,
   "metadata": {},
   "outputs": [],
   "source": [
    "EntropyZipNN.prepareTrain()"
   ]
  },
  {
   "cell_type": "code",
   "execution_count": null,
   "metadata": {},
   "outputs": [],
   "source": [
    "for ii in range(100):\n",
    "    print(ii)\n",
    "    EntropyZipNN.feed(0.1)"
   ]
  },
  {
   "cell_type": "code",
   "execution_count": null,
   "metadata": {},
   "outputs": [],
   "source": [
    "result = EntropyZipNN.predict(EntropyZipNN.inputArray)"
   ]
  },
  {
   "cell_type": "code",
   "execution_count": null,
   "metadata": {},
   "outputs": [],
   "source": [
    "print(np.count_nonzero(result - ZipData[:,0]))\n"
   ]
  },
  {
   "cell_type": "code",
   "execution_count": null,
   "metadata": {},
   "outputs": [],
   "source": [
    "print(1 - (np.count_nonzero(result - ZipData[:,0]))/len(ZipData))"
   ]
  },
  {
   "cell_type": "code",
   "execution_count": null,
   "metadata": {},
   "outputs": [],
   "source": [
    "SquaredZipNN = SquaredClassificationNeuralNetwork(ZipDataTrainX, ZipDataTrainY, indicators=[0, 1, 2, 3, 4, 5, 6, 7, 8, 9], hiddenNeurons=12)"
   ]
  },
  {
   "cell_type": "code",
   "execution_count": null,
   "metadata": {},
   "outputs": [],
   "source": [
    "SquaredZipNN.prepareTrain()"
   ]
  },
  {
   "cell_type": "code",
   "execution_count": null,
   "metadata": {},
   "outputs": [],
   "source": [
    "for ii in range(100):\n",
    "    print(ii)\n",
    "    SquaredZipNN.feed(0.01)"
   ]
  },
  {
   "cell_type": "code",
   "execution_count": null,
   "metadata": {},
   "outputs": [],
   "source": [
    "result = SquaredZipNN.predict(SquaredZipNN.inputArray)\n",
    "print(result)"
   ]
  },
  {
   "cell_type": "code",
   "execution_count": null,
   "metadata": {},
   "outputs": [],
   "source": [
    "print(np.count_nonzero(result - ZipData[:,0]))"
   ]
  },
  {
   "cell_type": "code",
   "execution_count": null,
   "metadata": {},
   "outputs": [],
   "source": [
    "print(1 - (np.count_nonzero(result - ZipData[:,0]))/len(ZipData))"
   ]
  },
  {
   "cell_type": "markdown",
   "metadata": {},
   "source": [
    "##### "
   ]
  }
 ],
 "metadata": {
  "kernelspec": {
   "display_name": "Python 3",
   "language": "python",
   "name": "python3"
  },
  "language_info": {
   "codemirror_mode": {
    "name": "ipython",
    "version": 3
   },
   "file_extension": ".py",
   "mimetype": "text/x-python",
   "name": "python",
   "nbconvert_exporter": "python",
   "pygments_lexer": "ipython3",
   "version": "3.8.7"
  }
 },
 "nbformat": 4,
 "nbformat_minor": 4
}
