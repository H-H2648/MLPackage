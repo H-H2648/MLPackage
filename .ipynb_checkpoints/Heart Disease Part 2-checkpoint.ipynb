{
 "cells": [
  {
   "cell_type": "code",
   "execution_count": 1,
   "metadata": {},
   "outputs": [],
   "source": [
    "from BasisExpansion import BasisExpansion\n",
    "import numpy as np\n",
    "from LinClass import LinClass"
   ]
  },
  {
   "cell_type": "code",
   "execution_count": 2,
   "metadata": {},
   "outputs": [],
   "source": [
    "heartData = np.loadtxt('cleanedSAheart.data.txt', skiprows=1)[:, 1:]\n",
    "arrayY = heartData[:,-1]\n",
    "y = np.zeros((len(heartData), 2))\n",
    "for ii in range(len(heartData)):\n",
    "    if arrayY[ii] == 0:\n",
    "        y[ii] = np.array([1, 0])\n",
    "    elif arrayY[ii] == 1:\n",
    "        y[ii] = np.array([0, 1])\n",
    "    else:\n",
    "        print('something wrong')\n",
    "        print(ii)\n",
    "        print(y[ii])\n",
    "X = heartData[:,0:-1]"
   ]
  },
  {
   "cell_type": "code",
   "execution_count": 3,
   "metadata": {},
   "outputs": [],
   "source": [
    "heartBaseExpanded = BasisExpansion()\n",
    "XTrain, XTest = X[:int(len(X)/3)], X[int(len(X)/3):]\n",
    "yTrain, yTest = y[:int(len(y)/3)], y[int(len(y)/3):]\n",
    "expandedXTrain = np.zeros((len(XTrain), 4*(len(X[0]) - 1) + 1))\n",
    "expandedXTest = np.zeros((len(XTest), 4*len(X[0] - 1) + 1))"
   ]
  },
  {
   "cell_type": "code",
   "execution_count": 4,
   "metadata": {},
   "outputs": [
    {
     "ename": "AttributeError",
     "evalue": "'BasisExpansion' object has no attribute 'piecewiseLienar'",
     "output_type": "error",
     "traceback": [
      "\u001b[1;31m---------------------------------------------------------------------------\u001b[0m",
      "\u001b[1;31mAttributeError\u001b[0m                            Traceback (most recent call last)",
      "\u001b[1;32m<ipython-input-4-2cfc579915c4>\u001b[0m in \u001b[0;36m<module>\u001b[1;34m\u001b[0m\n\u001b[0;32m     10\u001b[0m         \u001b[1;32mfor\u001b[0m \u001b[0mknot\u001b[0m \u001b[1;32min\u001b[0m \u001b[0mknots\u001b[0m\u001b[1;33m:\u001b[0m\u001b[1;33m\u001b[0m\u001b[1;33m\u001b[0m\u001b[0m\n\u001b[0;32m     11\u001b[0m             \u001b[0mexpandedXTrain\u001b[0m\u001b[1;33m[\u001b[0m\u001b[1;33m:\u001b[0m\u001b[1;33m,\u001b[0m\u001b[0mindex\u001b[0m\u001b[1;33m]\u001b[0m \u001b[1;33m=\u001b[0m \u001b[0mheartBaseExpanded\u001b[0m\u001b[1;33m.\u001b[0m\u001b[0mpiecewiseLinear\u001b[0m\u001b[1;33m(\u001b[0m\u001b[0mXTrain\u001b[0m\u001b[1;33m[\u001b[0m\u001b[1;33m:\u001b[0m\u001b[1;33m,\u001b[0m\u001b[0mii\u001b[0m\u001b[1;33m]\u001b[0m\u001b[1;33m,\u001b[0m \u001b[0mknot\u001b[0m\u001b[1;33m)\u001b[0m\u001b[1;33m\u001b[0m\u001b[1;33m\u001b[0m\u001b[0m\n\u001b[1;32m---> 12\u001b[1;33m             \u001b[0mexpandedXTest\u001b[0m\u001b[1;33m[\u001b[0m\u001b[1;33m:\u001b[0m\u001b[1;33m,\u001b[0m\u001b[0mindex\u001b[0m\u001b[1;33m]\u001b[0m \u001b[1;33m=\u001b[0m \u001b[0mheartBaseExpanded\u001b[0m\u001b[1;33m.\u001b[0m\u001b[0mpiecewiseLienar\u001b[0m\u001b[1;33m(\u001b[0m\u001b[0mXTest\u001b[0m\u001b[1;33m[\u001b[0m\u001b[1;33m:\u001b[0m\u001b[1;33m,\u001b[0m\u001b[0mii\u001b[0m\u001b[1;33m]\u001b[0m\u001b[1;33m,\u001b[0m \u001b[0mknot\u001b[0m\u001b[1;33m)\u001b[0m\u001b[1;33m\u001b[0m\u001b[1;33m\u001b[0m\u001b[0m\n\u001b[0m\u001b[0;32m     13\u001b[0m             \u001b[0mindex\u001b[0m \u001b[1;33m+=\u001b[0m\u001b[1;36m1\u001b[0m\u001b[1;33m\u001b[0m\u001b[1;33m\u001b[0m\u001b[0m\n",
      "\u001b[1;31mAttributeError\u001b[0m: 'BasisExpansion' object has no attribute 'piecewiseLienar'"
     ]
    }
   ],
   "source": [
    "index = 0\n",
    "for ii in range(len(XTrain[0])):\n",
    "    if ii == 4:\n",
    "        expandedXTrain[:,index] = XTrain[:,ii]\n",
    "        expandedXTest[:,index] = XTest[:, ii]\n",
    "        index +=1\n",
    "    else:\n",
    "        col = XTrain[:,ii]\n",
    "        knots = heartBaseExpanded.getKnots(5, col)\n",
    "        for knot in knots:\n",
    "            expandedXTrain[:,index] = heartBaseExpanded.piecewiseLinear(XTrain[:,ii], knot)\n",
    "            expandedXTest[:,index] = heartBaseExpanded.piecewiseLinear(XTest[:,ii], knot)\n",
    "            index +=1"
   ]
  },
  {
   "cell_type": "code",
   "execution_count": null,
   "metadata": {},
   "outputs": [],
   "source": [
    "heartClass = LinClass(XTrain, yTrain, indicatorArray = ['no heart attack', 'heart attack'])\n",
    "print(XTrain.shape)"
   ]
  },
  {
   "cell_type": "code",
   "execution_count": null,
   "metadata": {},
   "outputs": [],
   "source": [
    "for col in np.transpose(XTrain):\n",
    "    print(col)"
   ]
  },
  {
   "cell_type": "code",
   "execution_count": null,
   "metadata": {},
   "outputs": [],
   "source": [
    "heartClass.binaryLogisticRegg()"
   ]
  },
  {
   "cell_type": "code",
   "execution_count": null,
   "metadata": {},
   "outputs": [],
   "source": [
    "XtestStandardized = heartClass.standardizeTest(XTest)\n",
    "logisticFit = heartClass.logisticReggBestFit\n",
    "print(logisticFit)\n",
    "correct = 0\n",
    "total = 0\n",
    "for ii in range(len(XtestStandardized)):\n",
    "    x = XtestStandardized[ii]\n",
    "    probability = expit(-np.dot(x, logisticFit))\n",
    "    if probability > 1/2:\n",
    "        result = np.array([1, 0])\n",
    "    else:\n",
    "        result = np.array([0, 1])\n",
    "    if (result == yTest[ii]).all():\n",
    "        correct+=1 \n",
    "    total +=1\n",
    "print(correct/total)"
   ]
  },
  {
   "cell_type": "code",
   "execution_count": null,
   "metadata": {},
   "outputs": [],
   "source": []
  }
 ],
 "metadata": {
  "kernelspec": {
   "display_name": "Python 3",
   "language": "python",
   "name": "python3"
  },
  "language_info": {
   "codemirror_mode": {
    "name": "ipython",
    "version": 3
   },
   "file_extension": ".py",
   "mimetype": "text/x-python",
   "name": "python",
   "nbconvert_exporter": "python",
   "pygments_lexer": "ipython3",
   "version": "3.8.7"
  }
 },
 "nbformat": 4,
 "nbformat_minor": 4
}
