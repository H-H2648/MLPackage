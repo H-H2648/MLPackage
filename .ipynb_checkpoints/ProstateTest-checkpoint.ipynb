{
 "cells": [
  {
   "cell_type": "code",
   "execution_count": 1,
   "metadata": {},
   "outputs": [
    {
     "ename": "ImportError",
     "evalue": "cannot import name 'LinReg' from 'LinRegg' (C:\\Users\\hhong\\Documents\\MLPackage\\LinRegg\\__init__.py)",
     "output_type": "error",
     "traceback": [
      "\u001b[1;31m---------------------------------------------------------------------------\u001b[0m",
      "\u001b[1;31mImportError\u001b[0m                               Traceback (most recent call last)",
      "\u001b[1;32m<ipython-input-1-a2ec7a0baa08>\u001b[0m in \u001b[0;36m<module>\u001b[1;34m\u001b[0m\n\u001b[0;32m      1\u001b[0m \u001b[1;32mimport\u001b[0m \u001b[0mnumpy\u001b[0m \u001b[1;32mas\u001b[0m \u001b[0mnp\u001b[0m\u001b[1;33m\u001b[0m\u001b[1;33m\u001b[0m\u001b[0m\n\u001b[1;32m----> 2\u001b[1;33m \u001b[1;32mfrom\u001b[0m \u001b[0mLinRegg\u001b[0m \u001b[1;32mimport\u001b[0m \u001b[0mLinReg\u001b[0m\u001b[1;33m\u001b[0m\u001b[1;33m\u001b[0m\u001b[0m\n\u001b[0m",
      "\u001b[1;31mImportError\u001b[0m: cannot import name 'LinReg' from 'LinRegg' (C:\\Users\\hhong\\Documents\\MLPackage\\LinRegg\\__init__.py)"
     ]
    }
   ],
   "source": [
    "import numpy as np\n",
    "from LinRegg import LinRegg"
   ]
  },
  {
   "cell_type": "code",
   "execution_count": null,
   "metadata": {},
   "outputs": [],
   "source": [
    "def standardize(X):\n",
    "    meanX = np.mean(X, axis = 0)\n",
    "    stdX = np.std(X, axis = 0)\n",
    "    #meanY = np.mean(Y)\n",
    "    #standardizedY = Y - meanY\n",
    "    standardizedX = (X - meanX)/stdX\n",
    "    return standardizedX\n",
    "    #return (standardizedX, standardizedY)"
   ]
  },
  {
   "cell_type": "code",
   "execution_count": null,
   "metadata": {},
   "outputs": [],
   "source": [
    "X = np.loadtxt('prostate.data.txt', skiprows=1)\n",
    "y = X[:,-1]\n",
    "X = X[:,0:-1]\n",
    "X = standardize(X)\n",
    "#X, y = standardize(X, y)\n",
    "print(X)\n",
    "print(y)"
   ]
  },
  {
   "cell_type": "code",
   "execution_count": null,
   "metadata": {},
   "outputs": [],
   "source": [
    "Xtrain, Xtest = X[:67], X[67:]\n",
    "ytrain, ytest = y[:67], y[67:]\n",
    "prostateLinTest = LinRegg(Xtrain, ytrain)"
   ]
  },
  {
   "cell_type": "code",
   "execution_count": null,
   "metadata": {},
   "outputs": [],
   "source": [
    "prostateLinTest.RSSSolve()\n",
    "print(prostateLinTest.bestFit)"
   ]
  },
  {
   "cell_type": "code",
   "execution_count": null,
   "metadata": {},
   "outputs": [],
   "source": [
    "prostateLinTest.orthogonalizationAlgorithm(decomposition=True)\n"
   ]
  },
  {
   "cell_type": "code",
   "execution_count": null,
   "metadata": {},
   "outputs": [],
   "source": [
    "prostateLinTest.RSSRidgeSolve(complexity=1)\n",
    "print(prostateLinTest.ridgeBestFit)"
   ]
  },
  {
   "cell_type": "code",
   "execution_count": null,
   "metadata": {},
   "outputs": [],
   "source": [
    "prostateLinTest.LARAlgorithm()\n",
    "print(prostateLinTest.LARBestFit)"
   ]
  },
  {
   "cell_type": "code",
   "execution_count": null,
   "metadata": {},
   "outputs": [],
   "source": [
    "prostateLinTest.LARLassoAlgorithm()\n",
    "print(prostateLinTest.lassoBestFit)"
   ]
  },
  {
   "cell_type": "code",
   "execution_count": null,
   "metadata": {},
   "outputs": [],
   "source": [
    "prostateLinTest.principalComponentRegression()\n",
    "print(prostateLinTest.principalComponentBestFit)"
   ]
  },
  {
   "cell_type": "code",
   "execution_count": null,
   "metadata": {},
   "outputs": [],
   "source": [
    "prostateLinTest.partialLeastSquares()\n",
    "print(prostateLinTest.partialLeastSquaresBestFit)"
   ]
  },
  {
   "cell_type": "code",
   "execution_count": null,
   "metadata": {},
   "outputs": [],
   "source": []
  }
 ],
 "metadata": {
  "kernelspec": {
   "display_name": "Python 3",
   "language": "python",
   "name": "python3"
  },
  "language_info": {
   "codemirror_mode": {
    "name": "ipython",
    "version": 3
   },
   "file_extension": ".py",
   "mimetype": "text/x-python",
   "name": "python",
   "nbconvert_exporter": "python",
   "pygments_lexer": "ipython3",
   "version": "3.8.6"
  }
 },
 "nbformat": 4,
 "nbformat_minor": 4
}
