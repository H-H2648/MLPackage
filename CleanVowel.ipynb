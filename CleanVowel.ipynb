{
 "cells": [
  {
   "cell_type": "code",
   "execution_count": 6,
   "metadata": {},
   "outputs": [],
   "source": [
    "with open('cleanedVowel.train.txt', 'w') as cleaned:\n",
    "    with open('vowel.train.txt', 'r') as notCleaned:\n",
    "        lines = notCleaned.readlines()\n",
    "    #cleaned.write(lines[0])\n",
    "    for line in lines[1:]:\n",
    "        row = line.split(',')\n",
    "        row = row[1:]\n",
    "        cleanRow = []\n",
    "        for elem in row:\n",
    "            elem.replace(' ', '')\n",
    "            cleanRow.append(elem)\n",
    "        cleanedLine =  ' '.join(cleanRow)\n",
    "        cleaned.write(cleanedLine)"
   ]
  },
  {
   "cell_type": "code",
   "execution_count": 7,
   "metadata": {},
   "outputs": [],
   "source": [
    "with open('cleanedVowel.test.txt', 'w') as cleaned:\n",
    "    with open('vowel.test.txt', 'r') as notCleaned:\n",
    "        lines = notCleaned.readlines()\n",
    "    #cleaned.write(lines[0])\n",
    "    for line in lines[1:]:\n",
    "        row = line.split(',')\n",
    "        row = row[1:]\n",
    "        cleanRow = []\n",
    "        for elem in row:\n",
    "            elem.replace(' ', '')\n",
    "            cleanRow.append(elem)\n",
    "        cleanedLine =  ' '.join(cleanRow)\n",
    "        cleaned.write(cleanedLine)"
   ]
  },
  {
   "cell_type": "code",
   "execution_count": null,
   "metadata": {},
   "outputs": [],
   "source": []
  }
 ],
 "metadata": {
  "kernelspec": {
   "display_name": "Python 3",
   "language": "python",
   "name": "python3"
  },
  "language_info": {
   "codemirror_mode": {
    "name": "ipython",
    "version": 3
   },
   "file_extension": ".py",
   "mimetype": "text/x-python",
   "name": "python",
   "nbconvert_exporter": "python",
   "pygments_lexer": "ipython3",
   "version": "3.8.7"
  }
 },
 "nbformat": 4,
 "nbformat_minor": 4
}
