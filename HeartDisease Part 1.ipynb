{
 "cells": [
  {
   "cell_type": "code",
   "execution_count": 1,
   "metadata": {},
   "outputs": [],
   "source": [
    "from LinClass import LinClass\n",
    "from LinRegg import LinRegg\n",
    "import numpy as np\n",
    "import math\n",
    "import matplotlib.pyplot as plt\n",
    "from scipy.special import expit"
   ]
  },
  {
   "cell_type": "code",
   "execution_count": 2,
   "metadata": {},
   "outputs": [],
   "source": [
    "heartData = np.loadtxt('cleanedSAheart.data.txt', skiprows=1)[:, 1:]\n",
    "arrayY = heartData[:,-1]\n",
    "y = np.zeros((len(heartData), 2))\n",
    "for ii in range(len(heartData)):\n",
    "    if arrayY[ii] == 1:\n",
    "        y[ii] = np.array([1, 0])\n",
    "    elif arrayY[ii] == 0:\n",
    "        y[ii] = np.array([0, 1])\n",
    "    else:\n",
    "        print('something wrong')\n",
    "        print(ii)\n",
    "        print(y[ii])\n",
    "X = heartData[:,0:-1]\n",
    "Xtrain, Xtest = X[:int(len(heartData)/3)], X[int(len(heartData)/3):]\n",
    "ytrain, ytest = y[:int(len(heartData)/3)], y[int(len(heartData)/3):]"
   ]
  },
  {
   "cell_type": "code",
   "execution_count": 3,
   "metadata": {},
   "outputs": [],
   "source": [
    "heartClass = LinClass(Xtrain, ytrain, indicatorArray = ['no heart attack', 'heart attack'])"
   ]
  },
  {
   "cell_type": "code",
   "execution_count": 4,
   "metadata": {},
   "outputs": [
    {
     "name": "stdout",
     "output_type": "stream",
     "text": [
      "[-0.71628593  0.03820115  0.4713396   0.32391317  0.38254948  0.23071592\n",
      "  0.31111879 -0.39174642 -0.01906143  0.53281624]\n",
      "0.7142857142857143\n"
     ]
    }
   ],
   "source": [
    "logisticFit = heartClass.binaryLogisticRegg()\n",
    "XtestStandardized = heartClass.standardizeTest(Xtest)\n",
    "print(logisticFit)\n",
    "correct = 0\n",
    "total = 0\n",
    "for ii in range(len(XtestStandardized)):\n",
    "    x = XtestStandardized[ii]\n",
    "    probability = 1 - expit(-np.dot(x, logisticFit))\n",
    "    if probability > 1/2:\n",
    "        result = np.array([1, 0])\n",
    "    else:\n",
    "        result = np.array([0, 1])\n",
    "    if (result == ytest[ii]).all():\n",
    "        correct+=1 \n",
    "    total +=1\n",
    "print(correct/total)\n",
    "        "
   ]
  },
  {
   "cell_type": "code",
   "execution_count": 11,
   "metadata": {},
   "outputs": [
    {
     "name": "stdout",
     "output_type": "stream",
     "text": [
      "[-0.71628593  0.03820115  0.4713396   0.32391317  0.38254948  0.23071592\n",
      "  0.31111879 -0.39174642 -0.01906143  0.53281624]\n",
      "0\n",
      "(220, 308)\n",
      "0.7142857142857143\n",
      "[-6.50589933e-01  2.33439649e-02  4.31181241e-01  3.02113403e-01\n",
      "  1.89668478e-01  2.01654623e-01  2.59092675e-01 -2.06788953e-01\n",
      "  2.21609798e-07  5.57559827e-01]\n",
      "1\n",
      "(222, 308)\n",
      "0.7207792207792207\n",
      "[-5.93372339e-01  1.16414463e-02  3.98355660e-01  2.80271794e-01\n",
      "  3.01585916e-02  1.74965261e-01  2.12811988e-01 -5.42049374e-02\n",
      "  2.00678845e-07  5.80901098e-01]\n",
      "2\n",
      "(220, 308)\n",
      "0.7142857142857143\n",
      "[-5.43481886e-01  2.12728965e-03  3.73258418e-01  2.49217385e-01\n",
      "  1.16545968e-02  1.45663848e-01  1.75133233e-01 -1.12765187e-02\n",
      "  2.05310138e-07  5.51273478e-01]\n",
      "3\n",
      "(222, 308)\n",
      "0.7207792207792207\n",
      "[-4.97392230e-01  8.24527202e-04  3.48797793e-01  2.22620828e-01\n",
      "  3.80417984e-03  1.19300969e-01  1.39966441e-01 -5.00581719e-07\n",
      "  1.66970337e-08  5.23593574e-01]\n",
      "4\n",
      "(223, 308)\n",
      "0.724025974025974\n",
      "[-4.51275180e-01  4.93499500e-03  3.22940340e-01  1.89630391e-01\n",
      "  2.63107192e-02  9.45720694e-02  1.07945536e-01  2.53980479e-07\n",
      "  2.26231018e-07  4.74712722e-01]\n",
      "5\n",
      "(222, 308)\n",
      "0.7207792207792207\n",
      "[-4.11787610e-01  2.52617697e-02  2.96517714e-01  1.63795468e-01\n",
      "  2.72555620e-02  7.48870201e-02  7.72897623e-02  1.41693112e-07\n",
      "  3.44206100e-08  4.41360750e-01]\n",
      "6\n",
      "(222, 308)\n",
      "0.7207792207792207\n",
      "[-3.77389927e-01  1.04180418e-02  2.63393448e-01  1.39849323e-01\n",
      "  2.08724745e-02  5.03535111e-02  7.54041355e-02 -1.76318100e-07\n",
      " -2.63705119e-08  4.54759079e-01]\n",
      "7\n",
      "(216, 308)\n",
      "0.7012987012987013\n",
      "[-3.36309169e-01  5.49093093e-03  2.30252958e-01  1.38364548e-01\n",
      "  4.01302712e-02  2.18480159e-02  6.08922113e-02  1.97768831e-07\n",
      "  5.81985919e-08  4.21765629e-01]\n",
      "8\n",
      "(215, 308)\n",
      "0.698051948051948\n",
      "[-2.96978254e-01  5.03549457e-03  2.09787727e-01  1.19868947e-01\n",
      "  1.63966587e-02  3.48394581e-02  2.89324969e-02  3.44848386e-07\n",
      "  8.97628168e-08  4.06803323e-01]\n",
      "9\n",
      "(215, 308)\n",
      "0.698051948051948\n"
     ]
    },
    {
     "data": {
      "text/plain": [
       "[<matplotlib.lines.Line2D at 0x235360e42e0>]"
      ]
     },
     "execution_count": 11,
     "metadata": {},
     "output_type": "execute_result"
    },
    {
     "data": {
      "image/png": "[encoded data removed]",
      "text/plain": [
       "<Figure size 432x288 with 1 Axes>"
      ]
     },
     "metadata": {
      "needs_background": "light"
     },
     "output_type": "display_data"
    }
   ],
   "source": [
    "XtestStandardized = heartClass.standardizeTest(Xtest)\n",
    "graphingX = np.arange(0, 10, 1)\n",
    "graphingY = np.zeros(10)\n",
    "for ii in range(len(graphingX)):\n",
    "    bestFit = heartClass.binaryLogisticReggLasso(complexity=graphingX[ii])\n",
    "    print(bestFit)\n",
    "    correct = 0\n",
    "    total = 0\n",
    "    print(ii)\n",
    "    for jj in range(len(XtestStandardized)):\n",
    "        x = XtestStandardized[jj]\n",
    "        probability = 1 - expit(-np.dot(x, bestFit))\n",
    "        if probability > 1/2:\n",
    "            result = np.array([1, 0])\n",
    "        else:\n",
    "            result = np.array([0, 1])\n",
    "        if (result == ytest[jj]).all():\n",
    "            correct+=1\n",
    "        total +=1\n",
    "    print((correct, total))\n",
    "    print(correct/total)\n",
    "    graphingY[ii] = correct/total\n",
    "plt.plot(graphingX, graphingY)"
   ]
  },
  {
   "cell_type": "code",
   "execution_count": 6,
   "metadata": {},
   "outputs": [
    {
     "name": "stdout",
     "output_type": "stream",
     "text": [
      "0.6655844155844156\n"
     ]
    }
   ],
   "source": [
    "heartClass.setProbabilities()\n",
    "heartClass.setMeans()\n",
    "heartClass.setLinearCovariance()\n",
    "correct = 0\n",
    "total = 0\n",
    "for ii in range(len(Xtest)):\n",
    "    x = Xtest[ii]\n",
    "    guess = heartClass.optimizedLDASolve(x)\n",
    "    index = np.nonzero(ytest[ii])[0][0]\n",
    "    answer = heartClass.indicators[index]\n",
    "    if (guess == answer):\n",
    "        correct+=1\n",
    "    total +=1\n",
    "print(correct/total)"
   ]
  },
  {
   "cell_type": "code",
   "execution_count": 7,
   "metadata": {},
   "outputs": [
    {
     "name": "stdout",
     "output_type": "stream",
     "text": [
      "0.6948051948051948\n"
     ]
    }
   ],
   "source": [
    "correct = 0\n",
    "total = 0\n",
    "for ii in range(len(Xtest)):\n",
    "    x = Xtest[ii]\n",
    "    guess = heartClass.QDASolve(x)\n",
    "    index = np.nonzero(ytest[ii])[0][0]\n",
    "    answer = heartClass.indicators[index]\n",
    "    if (guess == answer):\n",
    "        correct+=1\n",
    "    total +=1\n",
    "print(correct/total)"
   ]
  },
  {
   "cell_type": "code",
   "execution_count": 8,
   "metadata": {},
   "outputs": [
    {
     "name": "stdout",
     "output_type": "stream",
     "text": [
      "0.7272727272727273\n"
     ]
    }
   ],
   "source": [
    "heartRegg = LinRegg(Xtrain, ytrain)\n",
    "heartRegg.standardizePredictor()\n",
    "heartRegg.RSSSolve()\n",
    "bestFit = heartRegg.bestFit\n",
    "XtestReggStandardized = heartRegg.standardizeTest(Xtest)\n",
    "correct = 0\n",
    "total = 0\n",
    "for ii in range(len(XtestReggStandardized)):\n",
    "    x = XtestReggStandardized[ii]\n",
    "    guess = heartClass.determineClassRegg(x, bestFit)\n",
    "    index = np.nonzero(ytest[ii])[0][0]\n",
    "    answer = heartClass.indicators[index]\n",
    "    if (guess == answer):\n",
    "        correct+=1\n",
    "    total +=1\n",
    "print(correct/total)"
   ]
  },
  {
   "cell_type": "code",
   "execution_count": 9,
   "metadata": {},
   "outputs": [
    {
     "data": {
      "text/plain": [
       "[<matplotlib.lines.Line2D at 0x235360787c0>]"
      ]
     },
     "execution_count": 9,
     "metadata": {},
     "output_type": "execute_result"
    },
    {
     "data": {
      "image/png": "[encoded data removed]",
      "text/plain": [
       "<Figure size 432x288 with 1 Axes>"
      ]
     },
     "metadata": {
      "needs_background": "light"
     },
     "output_type": "display_data"
    }
   ],
   "source": [
    "graphingX = np.arange(0, 1000, 0.5)\n",
    "graphingY = np.zeros(2000)\n",
    "XtestReggStandardized = heartRegg.standardizeTest(Xtest)\n",
    "for ii in range(len(graphingX)):\n",
    "    heartRegg.RSSRidgeSolve(complexity=graphingX[ii])\n",
    "    bestFit = heartRegg.ridgeBestFit\n",
    "    correct = 0\n",
    "    total = 0\n",
    "    for jj in range(len(XtestReggStandardized)):\n",
    "        x = XtestReggStandardized[jj]\n",
    "        guess = heartClass.determineClassRegg(x, bestFit)\n",
    "        index = np.nonzero(ytest[jj])[0][0]\n",
    "        answer = heartClass.indicators[index]\n",
    "        if (guess == answer):\n",
    "            correct+=1\n",
    "        total +=1\n",
    "    graphingY[ii] = correct/total\n",
    "plt.plot(graphingX, graphingY)"
   ]
  },
  {
   "cell_type": "code",
   "execution_count": 10,
   "metadata": {},
   "outputs": [
    {
     "name": "stdout",
     "output_type": "stream",
     "text": [
      "0.7435064935064936\n",
      "17.0\n"
     ]
    }
   ],
   "source": [
    "print(np.amax(graphingY))\n",
    "print(np.argmax(graphingY)*1/2)"
   ]
  },
  {
   "cell_type": "code",
   "execution_count": null,
   "metadata": {},
   "outputs": [],
   "source": []
  }
 ],
 "metadata": {
  "kernelspec": {
   "display_name": "Python 3",
   "language": "python",
   "name": "python3"
  },
  "language_info": {
   "codemirror_mode": {
    "name": "ipython",
    "version": 3
   },
   "file_extension": ".py",
   "mimetype": "text/x-python",
   "name": "python",
   "nbconvert_exporter": "python",
   "pygments_lexer": "ipython3",
   "version": "3.8.7"
  }
 },
 "nbformat": 4,
 "nbformat_minor": 4
}
