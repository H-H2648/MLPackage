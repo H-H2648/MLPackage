{
 "cells": [
  {
   "cell_type": "code",
   "execution_count": 1,
   "metadata": {},
   "outputs": [],
   "source": [
    "from BasisExpansion import BasisExpansion\n",
    "import numpy as np\n",
    "from LinClass import LinClass\n",
    "from scipy.special import expit"
   ]
  },
  {
   "cell_type": "code",
   "execution_count": 2,
   "metadata": {},
   "outputs": [],
   "source": [
    "heartData = np.loadtxt('cleanedSAheart.data.txt', skiprows=1)[:, 1:]\n",
    "arrayY = heartData[:,-1]\n",
    "y = np.zeros((len(heartData), 2))\n",
    "for ii in range(len(heartData)):\n",
    "    if arrayY[ii] == 0:\n",
    "        y[ii] = np.array([1, 0])\n",
    "    elif arrayY[ii] == 1:\n",
    "        y[ii] = np.array([0, 1])\n",
    "    else:\n",
    "        print('something wrong')\n",
    "        print(ii)\n",
    "        print(y[ii])\n",
    "X = heartData[:,0:-1]"
   ]
  },
  {
   "cell_type": "code",
   "execution_count": 3,
   "metadata": {},
   "outputs": [],
   "source": [
    "heartBaseExpanded = BasisExpansion()\n",
    "XTrain, XTest, yTrain, yTest = X[:int(len(X)/3)], X[int(len(X)/3):], y[:int(len(y)/3)], y[int(len(y)/3):]\n",
    "expandedXTrain = np.zeros((len(XTrain), 4*(len(XTrain[0]) - 1) + 1))\n",
    "expandedXTest = np.zeros((len(XTest), 4*(len(XTest[0])- 1) + 1))"
   ]
  },
  {
   "cell_type": "code",
   "execution_count": 4,
   "metadata": {},
   "outputs": [],
   "source": [
    "index = 0\n",
    "for ii in range(len(XTrain[0])):\n",
    "    if ii == 4:\n",
    "        expandedXTrain[:,index] = XTrain[:,ii]\n",
    "        expandedXTest[:,index] = XTest[:, ii]\n",
    "        index +=1\n",
    "    else:\n",
    "        col = XTrain[:,ii]\n",
    "        knots = heartBaseExpanded.getKnots(5, col)\n",
    "        for knot in knots:\n",
    "            expandedXTrain[:,index] = heartBaseExpanded.piecewiseLinear(XTrain[:,ii], knot)\n",
    "            expandedXTest[:,index] = heartBaseExpanded.piecewiseLinear(XTest[:,ii], knot)\n",
    "            index +=1"
   ]
  },
  {
   "cell_type": "code",
   "execution_count": 5,
   "metadata": {},
   "outputs": [],
   "source": [
    "heartClass = LinClass(expandedXTrain, yTrain, indicatorArray = ['no heart attack', 'heart attack'])"
   ]
  },
  {
   "cell_type": "code",
   "execution_count": 6,
   "metadata": {},
   "outputs": [
    {
     "name": "stdout",
     "output_type": "stream",
     "text": [
      "[[57.   31.25  5.5  ... 24.75 12.5   0.25]\n",
      " [41.   15.25  0.   ... 35.75 23.5  11.25]\n",
      " [15.    0.    0.   ... 18.75  6.5   0.  ]\n",
      " ...\n",
      " [25.    0.    0.   ... 24.75 12.5   0.25]\n",
      " [19.    0.    0.   ...  0.    0.    0.  ]\n",
      " [ 5.    0.    0.   ...  0.    0.    0.  ]]\n"
     ]
    }
   ],
   "source": [
    "print(expandedXTrain)"
   ]
  },
  {
   "cell_type": "code",
   "execution_count": 7,
   "metadata": {},
   "outputs": [
    {
     "name": "stdout",
     "output_type": "stream",
     "text": [
      "[-0.85079967 -0.52289381  0.28819442  0.86887413 -0.78052854  0.77016844\n",
      " -0.07329828 -6.57956893  7.19585376  0.30749264  0.48609296 -0.04998285\n",
      " -0.50814122 -0.18908388  0.87202512 -0.15646891  0.1122885   0.11601256\n",
      "  7.94639927 -8.14033016  0.52297531  0.66105114 -1.75159324  1.121144\n",
      " -0.70551844  1.03705887 -0.41382277  0.54834612  0.49470486 -0.83053537\n",
      "  3.74890437 -3.36797708  0.2632431   0.24873721]\n"
     ]
    }
   ],
   "source": [
    "heartClass.binaryLogisticRegg()\n",
    "print(heartClass.logisticReggBestFit)"
   ]
  },
  {
   "cell_type": "code",
   "execution_count": 8,
   "metadata": {},
   "outputs": [
    {
     "name": "stdout",
     "output_type": "stream",
     "text": [
      "(308, 33)\n",
      "(154, 33)\n"
     ]
    }
   ],
   "source": [
    "print(expandedXTest.shape)\n",
    "print(expandedXTrain.shape)"
   ]
  },
  {
   "cell_type": "code",
   "execution_count": 9,
   "metadata": {},
   "outputs": [
    {
     "name": "stdout",
     "output_type": "stream",
     "text": [
      "[-0.85079967 -0.52289381  0.28819442  0.86887413 -0.78052854  0.77016844\n",
      " -0.07329828 -6.57956893  7.19585376  0.30749264  0.48609296 -0.04998285\n",
      " -0.50814122 -0.18908388  0.87202512 -0.15646891  0.1122885   0.11601256\n",
      "  7.94639927 -8.14033016  0.52297531  0.66105114 -1.75159324  1.121144\n",
      " -0.70551844  1.03705887 -0.41382277  0.54834612  0.49470486 -0.83053537\n",
      "  3.74890437 -3.36797708  0.2632431   0.24873721]\n",
      "0.6883116883116883\n"
     ]
    }
   ],
   "source": [
    "XtestStandardized = heartClass.standardizeTest(expandedXTest)\n",
    "logisticFit = heartClass.logisticReggBestFit\n",
    "print(logisticFit)\n",
    "correct = 0\n",
    "total = 0\n",
    "for ii in range(len(XtestStandardized)):\n",
    "    x = XtestStandardized[ii]\n",
    "    probability = expit(-np.dot(x, logisticFit))\n",
    "    if probability > 1/2:\n",
    "        result = np.array([1, 0])\n",
    "    else:\n",
    "        result = np.array([0, 1])\n",
    "    if (result == yTest[ii]).all():\n",
    "        correct+=1 \n",
    "    total +=1\n",
    "print(correct/total)"
   ]
  },
  {
   "cell_type": "code",
   "execution_count": null,
   "metadata": {},
   "outputs": [],
   "source": []
  }
 ],
 "metadata": {
  "kernelspec": {
   "display_name": "Python 3",
   "language": "python",
   "name": "python3"
  },
  "language_info": {
   "codemirror_mode": {
    "name": "ipython",
    "version": 3
   },
   "file_extension": ".py",
   "mimetype": "text/x-python",
   "name": "python",
   "nbconvert_exporter": "python",
   "pygments_lexer": "ipython3",
   "version": "3.8.7"
  }
 },
 "nbformat": 4,
 "nbformat_minor": 4
}
