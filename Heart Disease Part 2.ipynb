{
 "cells": [
  {
   "cell_type": "code",
   "execution_count": 1,
   "metadata": {},
   "outputs": [],
   "source": [
    "from BasisExpansion import BasisExpansion\n",
    "import numpy as np\n",
    "from LinClass import LinClass\n",
    "from scipy.special import expit"
   ]
  },
  {
   "cell_type": "code",
   "execution_count": 2,
   "metadata": {},
   "outputs": [],
   "source": [
    "heartData = np.loadtxt('cleanedSAheart.data.txt', skiprows=1)[:, 1:]\n",
    "arrayY = heartData[:,-1]\n",
    "y = np.zeros((len(heartData), 2))\n",
    "for ii in range(len(heartData)):\n",
    "    if arrayY[ii] == 1:\n",
    "        y[ii] = np.array([1, 0])\n",
    "    elif arrayY[ii] == 0:\n",
    "        y[ii] = np.array([0, 1])\n",
    "    else:\n",
    "        print('something wrong')\n",
    "        print(ii)\n",
    "        print(y[ii])\n",
    "X = heartData[:,0:-1]"
   ]
  },
  {
   "cell_type": "code",
   "execution_count": 3,
   "metadata": {},
   "outputs": [],
   "source": [
    "Expander = BasisExpansion()\n",
    "XTrain, XTest, yTrain, yTest = X[:int(len(X)/3)], X[int(len(X)/3):], y[:int(len(y)/3)], y[int(len(y)/3):]\n",
    "expandedXTrain = np.zeros((len(XTrain), 4*(len(XTrain[0]) - 1) + 1))\n",
    "expandedXTest = np.zeros((len(XTest), 4*(len(XTest[0])- 1) + 1))"
   ]
  },
  {
   "cell_type": "code",
   "execution_count": 4,
   "metadata": {},
   "outputs": [],
   "source": [
    "index = 0\n",
    "for ii in range(len(XTrain[0])):\n",
    "    expandedXTrain[:,index] = XTrain[:,ii]\n",
    "    expandedXTest[:,index] = XTest[:, ii]\n",
    "    index +=1\n",
    "    if ii == 4:\n",
    "        continue\n",
    "    else:\n",
    "        col = XTrain[:,ii]\n",
    "        knots = Expander.getKnots(5, col)\n",
    "        for jj in range(len(knots[:-2])):\n",
    "            expandedXTrain[:,index] = Expander.naturalCubeSplines(XTrain[:,ii], knots, jj)\n",
    "            expandedXTest[:,index] = Expander.naturalCubeSplines(XTest[:,ii], knots, jj)\n",
    "            index +=1"
   ]
  },
  {
   "cell_type": "code",
   "execution_count": 5,
   "metadata": {},
   "outputs": [],
   "source": [
    "heartClass = LinClass(expandedXTrain, yTrain, indicatorArray = ['no heart attack', 'heart attack'])"
   ]
  },
  {
   "cell_type": "code",
   "execution_count": 6,
   "metadata": {},
   "outputs": [
    {
     "name": "stdout",
     "output_type": "stream",
     "text": [
      "(308, 33)\n",
      "(154, 33)\n"
     ]
    }
   ],
   "source": [
    "print(expandedXTest.shape)\n",
    "print(expandedXTrain.shape)"
   ]
  },
  {
   "cell_type": "code",
   "execution_count": 7,
   "metadata": {},
   "outputs": [
    {
     "name": "stdout",
     "output_type": "stream",
     "text": [
      "91.4131246872698\n",
      "18.117497925746054\n",
      "4.532349240856676\n",
      "0.9570104714773043\n",
      "0.5279031944644477\n",
      "0.2884119217212637\n",
      "0.2205408503881356\n",
      "0.16953153536079651\n",
      "0.14933398659527522\n",
      "0.1315158475756404\n",
      "0.1157725005743745\n",
      "0.10186231651475579\n",
      "0.08957848612306782\n",
      "0.07873835155173237\n",
      "0.06917908934154662\n",
      "0.06075524705886942\n",
      "0.05333690316556565\n",
      "0.046808113177060726\n",
      "0.04106553333140575\n",
      "0.03601717722721086\n",
      "0.03158128289087267\n",
      "0.027685277091654324\n",
      "0.024264828351677804\n",
      "0.021262982391083735\n",
      "0.018629374842963814\n",
      "0.016319516507896627\n",
      "0.014294146540269738\n",
      "0.0125186489533116\n",
      "0.010962527826241079\n",
      "0.009598936623107061\n",
      "0.0084042571188655\n",
      "0.007357723583571115\n",
      "0.00644108806004965\n",
      "0.005638322812154161\n",
      "0.004935356262394444\n",
      "0.004319839011879756\n",
      "0.003780936802093028\n",
      "0.0033091475409504846\n",
      "0.0028961397806827717\n",
      "0.002534610268506553\n",
      "0.002218158437027731\n",
      "0.001941175901981063\n",
      "0.00169874924649118\n",
      "0.0014865745467084952\n",
      "0.0013008822635062738\n",
      "0.0011383712758869084\n",
      "0.0009961509701581538\n",
      "0.0008716904200893736\n",
      "0.0007627738063918087\n",
      "0.0006674613199214599\n",
      "0.0005840548859442947\n",
      "0.0005110681194774344\n",
      "0.000447199996614094\n",
      "0.00039131178660445056\n",
      "0.0003424068429918395\n",
      "0.00029961290332782014\n",
      "0.00026216658663236165\n",
      "0.00022939981939854178\n",
      "0.00020072794790713561\n",
      "0.00017563933292773294\n",
      "0.0001536862376769774\n",
      "0.00013447685276078597\n",
      "0.00011766831422731466\n",
      "0.00010296059267740946\n",
      "9.009114466751156e-05\n",
      "7.883023112753282e-05\n",
      "6.8976819290976e-05\n",
      "6.0354997968257076e-05\n",
      "5.2810838481484125e-05\n",
      "4.620964841579602e-05\n",
      "4.0433568504007105e-05\n",
      "3.537946907637692e-05\n",
      "3.095710941283828e-05\n",
      "2.708752733517194e-05\n",
      "2.37016297280409e-05\n",
      "2.0738959172541164e-05\n",
      "1.814661466176277e-05\n",
      "1.587830728595967e-05\n",
      "1.3893533719227558e-05\n",
      "1.2156853485506778e-05\n",
      "1.0637255497819516e-05\n",
      "9.307605264590154e-06\n",
      "8.144159788186223e-06\n",
      "7.126143722209868e-06\n",
      "6.235378664781898e-06\n",
      "5.455958632071551e-06\n",
      "4.7739655759530015e-06\n",
      "4.177221240501655e-06\n",
      "3.65506963880252e-06\n",
      "3.1981867362168335e-06\n",
      "2.798413885419316e-06\n",
      "2.4486125979061618e-06\n",
      "2.1425363748210983e-06\n",
      "1.8747195481087025e-06\n",
      "1.6403797582877526e-06\n",
      "1.4353324736781998e-06\n",
      "1.2559161187877908e-06\n",
      "1.0989267145784724e-06\n",
      "9.615608902702686e-07\n",
      "8.413658166962522e-07\n",
      "7.361952348657297e-07\n",
      "6.441708246127103e-07\n",
      "5.636494818959439e-07\n",
      "4.9319330798546e-07\n",
      "4.3154413333237083e-07\n",
      "3.7760115507071354e-07\n",
      "3.3040103719048717e-07\n",
      "2.8910090079933054e-07\n",
      "2.529633079048427e-07\n",
      "2.213429231168104e-07\n",
      "1.936750317714719e-07\n",
      "1.694656510636034e-07\n",
      "1.482823647476724e-07\n",
      "1.2974710338005096e-07\n",
      "1.1352865307301136e-07\n",
      "9.933763519256133e-08\n",
      "8.692035029726354e-08\n",
      "7.60553192443116e-08\n",
      "6.654832299698738e-08\n",
      "5.8229882136740474e-08\n",
      "5.095110025086032e-08\n",
      "4.4582260260236426e-08\n",
      "3.9009451876734426e-08\n",
      "3.4133330834014764e-08\n",
      "2.986665158470309e-08\n",
      "2.6133310369251734e-08\n",
      "2.2866685082988908e-08\n",
      "2.000834349496554e-08\n",
      "1.7507374285838196e-08\n",
      "1.531898033791643e-08\n",
      "1.340407002366722e-08\n",
      "[ -0.93238325  -0.18729414  -0.73203065   2.47104891  -1.7475919\n",
      "   0.9286436   -0.9020596   -0.31705908   1.22010471  -0.16363967\n",
      "   2.31620501  -1.79416569  -0.24650288  -0.62488367   4.1056494\n",
      "  -3.91856768   1.1133999    0.09187312  13.96260285 -48.08531893\n",
      "  39.28458081  -3.55187056  -2.22720427   5.16956562  -6.96010754\n",
      "   3.4631581   -0.41372132  -0.22482015   3.05511535  -2.78088336\n",
      "   5.41292404 -17.13211792  14.53457563  -1.58965617]\n",
      "0.7077922077922078\n"
     ]
    }
   ],
   "source": [
    "logisticFit = heartClass.binaryLogisticRegg()\n",
    "print(logisticFit)\n",
    "XtestStandardized = heartClass.standardizeTest(expandedXTest)\n",
    "correct = 0\n",
    "total = 0\n",
    "for ii in range(len(XtestStandardized)):\n",
    "    x = XtestStandardized[ii]\n",
    "    probability = 1 - expit(-np.dot(x, logisticFit))\n",
    "    if probability > 1/2:\n",
    "        result = np.array([1, 0])\n",
    "    else:\n",
    "        result = np.array([0, 1])\n",
    "    if (result == yTest[ii]).all():\n",
    "        correct+=1 \n",
    "    total +=1\n",
    "print(correct/total)"
   ]
  },
  {
   "cell_type": "code",
   "execution_count": 8,
   "metadata": {},
   "outputs": [
    {
     "name": "stdout",
     "output_type": "stream",
     "text": [
      "0.7532467532467533\n"
     ]
    }
   ],
   "source": [
    "correct = 0\n",
    "total = 0\n",
    "XTrainStandardized = heartClass.standardizeTest(expandedXTrain)\n",
    "for ii in range(len(XTrainStandardized)):\n",
    "    x = XTrainStandardized[ii]\n",
    "    probability = 1 - expit(-np.dot(x, logisticFit))\n",
    "    if probability > 1/2:\n",
    "        result = np.array([1, 0])\n",
    "    else:\n",
    "        result = np.array([0, 1])\n",
    "    if (result == yTrain[ii]).all():\n",
    "        correct+=1 \n",
    "    total +=1\n",
    "print(correct/total)"
   ]
  },
  {
   "cell_type": "code",
   "execution_count": null,
   "metadata": {},
   "outputs": [],
   "source": []
  }
 ],
 "metadata": {
  "kernelspec": {
   "display_name": "Python 3",
   "language": "python",
   "name": "python3"
  },
  "language_info": {
   "codemirror_mode": {
    "name": "ipython",
    "version": 3
   },
   "file_extension": ".py",
   "mimetype": "text/x-python",
   "name": "python",
   "nbconvert_exporter": "python",
   "pygments_lexer": "ipython3",
   "version": "3.8.7"
  }
 },
 "nbformat": 4,
 "nbformat_minor": 4
}
