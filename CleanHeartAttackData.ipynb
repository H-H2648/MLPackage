{
 "cells": [
  {
   "cell_type": "code",
   "execution_count": 5,
   "metadata": {},
   "outputs": [],
   "source": [
    "with open('cleanedSAheart.data.txt', 'w') as cleaned:\n",
    "    with open('SAheart.data.txt', 'r') as notCleaned:\n",
    "        lines = notCleaned.readlines()\n",
    "    cleaned.write(lines[0])\n",
    "    for line in lines[1:]:\n",
    "        row = line.split(',')\n",
    "        for elem in row:\n",
    "            elem.replace(' ', '')\n",
    "        cleanRow = []\n",
    "        for elem in row:\n",
    "            if elem == 'Present':\n",
    "                cleanRow.append('1')\n",
    "            elif elem == 'Absent':\n",
    "                cleanRow.append('0')\n",
    "            else:\n",
    "                cleanRow.append(elem)\n",
    "        cleanedLine =  ' '.join(cleanRow)\n",
    "        cleaned.write(cleanedLine)\n"
   ]
  },
  {
   "cell_type": "code",
   "execution_count": null,
   "metadata": {},
   "outputs": [],
   "source": []
  }
 ],
 "metadata": {
  "kernelspec": {
   "display_name": "Python 3",
   "language": "python",
   "name": "python3"
  },
  "language_info": {
   "codemirror_mode": {
    "name": "ipython",
    "version": 3
   },
   "file_extension": ".py",
   "mimetype": "text/x-python",
   "name": "python",
   "nbconvert_exporter": "python",
   "pygments_lexer": "ipython3",
   "version": "3.8.6"
  }
 },
 "nbformat": 4,
 "nbformat_minor": 4
}
