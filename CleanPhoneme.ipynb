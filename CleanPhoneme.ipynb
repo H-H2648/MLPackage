{
 "cells": [
  {
   "cell_type": "code",
   "execution_count": 1,
   "metadata": {},
   "outputs": [],
   "source": [
    "#for getting only 'aa' and 'ao'\n",
    "with open('cleanedPhonemeBinary.data.txt', 'w') as cleaned:\n",
    "    with open('phoneme.data.txt', 'r') as notCleaned:\n",
    "        lines = notCleaned.readlines()\n",
    "        for line in lines[1:]:\n",
    "            row = line.split(',')[1:258]\n",
    "            if row[256] in ['aa', 'ao']:\n",
    "                for elem in row:\n",
    "                    elem.replace(' ', '')\n",
    "                cleanRow = []\n",
    "                for elem in row:\n",
    "                    if elem == 'aa':\n",
    "                        cleanRow.append('1')\n",
    "                    elif elem == 'ao':\n",
    "                        cleanRow.append('0')\n",
    "                    else:\n",
    "                        cleanRow.append(elem)\n",
    "                cleanedLine =  ' '.join(cleanRow)\n",
    "                cleaned.write(cleanedLine)\n",
    "                cleaned.write('\\n')\n",
    "            else:\n",
    "                continue"
   ]
  },
  {
   "cell_type": "code",
   "execution_count": null,
   "metadata": {},
   "outputs": [],
   "source": []
  }
 ],
 "metadata": {
  "kernelspec": {
   "display_name": "Python 3",
   "language": "python",
   "name": "python3"
  },
  "language_info": {
   "codemirror_mode": {
    "name": "ipython",
    "version": 3
   },
   "file_extension": ".py",
   "mimetype": "text/x-python",
   "name": "python",
   "nbconvert_exporter": "python",
   "pygments_lexer": "ipython3",
   "version": "3.8.7"
  }
 },
 "nbformat": 4,
 "nbformat_minor": 4
}
